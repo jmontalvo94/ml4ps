{
 "cells": [
  {
   "cell_type": "markdown",
   "metadata": {},
   "source": [
    "# Models"
   ]
  },
  {
   "cell_type": "markdown",
   "metadata": {},
   "source": [
    "## Imports"
   ]
  },
  {
   "cell_type": "code",
   "execution_count": 122,
   "metadata": {},
   "outputs": [],
   "source": [
    "import math\n",
    "import matplotlib.pyplot as plt\n",
    "import numpy as np\n",
    "import torch\n",
    "import torch.nn as nn\n",
    "import torch.nn.functional as F\n",
    "import torch.optim as optim\n",
    "from torch.utils import data\n",
    "from sklearn.model_selection import train_test_split\n",
    "from tqdm import tqdm"
   ]
  },
  {
   "cell_type": "code",
   "execution_count": 123,
   "metadata": {},
   "outputs": [
    {
     "name": "stdout",
     "output_type": "stream",
     "text": [
      "The code is running on CPU.\n"
     ]
    }
   ],
   "source": [
    "# Operations on the GPU if available\n",
    "if torch.cuda.is_available():\n",
    "    print(\"The code is running on GPU.\")\n",
    "else:\n",
    "    print(\"The code is running on CPU.\")\n",
    "device = torch.device('cuda' if torch.cuda.is_available() else 'cpu')"
   ]
  },
  {
   "cell_type": "code",
   "execution_count": 124,
   "metadata": {},
   "outputs": [
    {
     "name": "stdout",
     "output_type": "stream",
     "text": [
      "The line_profiler extension is already loaded. To reload it, use:\n",
      "  %reload_ext line_profiler\n"
     ]
    }
   ],
   "source": [
    "%load_ext line_profiler"
   ]
  },
  {
   "cell_type": "markdown",
   "metadata": {},
   "source": [
    "## Functions"
   ]
  },
  {
   "cell_type": "code",
   "execution_count": 192,
   "metadata": {},
   "outputs": [],
   "source": [
    "class Dataset(data.Dataset):\n",
    "    \"\"\"Creates a Dataset depending on the given matrices.\n",
    "    \n",
    "    Attributes:\n",
    "        inputs(np.ndarray): Sliced matrix of inputs.\n",
    "        p_type(np.ndarray): Sliced matrix of point type (from inputs).\n",
    "        targets(np.ndarray): Sliced matrix of targets.\n",
    "        n_u(int): Number of data points.\n",
    "        n_f(int): Number of collocation points.\n",
    "    \n",
    "    Returns:\n",
    "        X(np.ndarray): Input observation at idx.\n",
    "        y(np.ndarray): Target observation at idx.\n",
    "        p_type(np.ndarray): Point type at idx\n",
    "    \"\"\"\n",
    "    def __init__(self, X_u, X_f, y, data_params, collocation=True, train=True, split=0.95):\n",
    "        \"\"\"Inits the Dataset, depends on collocation flag.\n",
    "        \n",
    "        Args:\n",
    "        inputs(np.ndarray): Matrix of inputs.\n",
    "        targets(np.ndarray): Matrix of targets.\n",
    "        data_params(Dict): Includes the parameters of the dataset.\n",
    "        collocation(bool): Indicates if the matrices should be sliced _\n",
    "            to only include data points or also collocation points.\n",
    "        \"\"\"\n",
    "        \n",
    "        # Unpack parameters\n",
    "        self.n_u = data_params['n_data']\n",
    "        self.n_f = data_params['n_collocation']\n",
    "        self.seed = data_params['seed']\n",
    "        \n",
    "        X_train, X_test, y_train, y_test = train_test_split(X_u, y,\n",
    "                                                            train_size=split,\n",
    "                                                            random_state=self.seed)\n",
    "        \n",
    "        idx = np.random.choice(X_train.shape[0], self.n_u, replace=False)\n",
    "        X_u_train = X_train[idx, 0:2]\n",
    "        p_train = X_train[idx, -1].reshape((-1,1))\n",
    "        y_train = y_train[idx, :]\n",
    "        \n",
    "        if collocation:\n",
    "            idx = np.random.choice(X_f.shape[0], self.n_f, replace=False)\n",
    "            X_train = np.vstack((X_u_train, X_f[idx, 0:2]))\n",
    "            p_train = np.vstack((p_train, X_f[idx, -1].reshape((-1,1))))\n",
    "            y_train = np.vstack((y_train, np.zeros((self.n_f, 1))))\n",
    "        else:\n",
    "            X_train = X_u_train\n",
    "        \n",
    "        if train:\n",
    "            self.inputs = X_train\n",
    "            self.p_type = p_train\n",
    "            self.targets = y_train\n",
    "        else:\n",
    "            self.inputs = X_test[:, 0:2]\n",
    "            self.p_type = X_test[:, -1].reshape((-1,1))\n",
    "            self.targets = y_test\n",
    "\n",
    "    def __len__(self):\n",
    "        \"\"\"Returns the size of the dataset.\"\"\"\n",
    "        return len(self.targets)\n",
    "\n",
    "    def __getitem__(self, idx):\n",
    "        \"\"\"Retrieve inputs and targets at the given index.\"\"\"\n",
    "        X = torch.Tensor(self.inputs[idx])\n",
    "        p_type = torch.Tensor(self.p_type[idx])\n",
    "        y = torch.Tensor(self.targets[idx])\n",
    "\n",
    "        return X, p_type, y"
   ]
  },
  {
   "cell_type": "code",
   "execution_count": 193,
   "metadata": {},
   "outputs": [],
   "source": [
    "def get_activation(self, name):\n",
    "    \"\"\"Matches the activation function name with the actual Pytorch function.\n",
    "\n",
    "    Args:\n",
    "        name(str): Name of the activation function.\n",
    "\n",
    "    Returns:\n",
    "        act(fun): Pytorch activation function.\n",
    "    \"\"\"\n",
    "\n",
    "    activations = {'tanh': nn.Tanh(),\n",
    "                   'relu': nn.ReLU(inplace=True),\n",
    "                   'leakyrelu': nn.LeakyReLU(inplace=True),\n",
    "                   'sigmoid': nn.Sigmoid()\n",
    "                  }\n",
    "\n",
    "    if name.lower() in activations:\n",
    "        return activations[name.lower()]\n",
    "    else: \n",
    "        raise ValueError(f'Activation function \"{name}\" not implemented, available activations are {list(activations.keys())}.')\n",
    "\n",
    "def get_loss(self, name):\n",
    "    \"\"\"Matches the loss function name with the actual Pytorch function.\n",
    "\n",
    "    Args:\n",
    "        name(str): Name of the loss function.\n",
    "\n",
    "    Returns:\n",
    "        loss(fun): Pytorch losss function.\n",
    "    \"\"\"\n",
    "\n",
    "    loss_funs = {'MSE': nn.MSELoss(),\n",
    "                 'MAE': nn.L1Loss(),\n",
    "                }\n",
    "\n",
    "    if name in loss_funs:\n",
    "        return loss_funs[name]\n",
    "    else: \n",
    "        raise ValueError(f'Loss function \"{name}\" not implemented, available loss functions are {list(loss_funs.keys())}.')"
   ]
  },
  {
   "cell_type": "code",
   "execution_count": 194,
   "metadata": {},
   "outputs": [],
   "source": [
    "class NN(nn.Module):\n",
    "    \"\"\"Feed-Forward Neural Network (NN).\n",
    "\n",
    "    Attributes:\n",
    "        layers(list): Architecture of the NN.\n",
    "        act_name(str): Activation function to use after each layer.\n",
    "        depth(int): Maximum depth of the NN.\n",
    "        nn(nn.Sequential): Sequential container of the NN.\n",
    "    \"\"\"\n",
    "    \n",
    "    def __init__(self, nn_params):\n",
    "        \"\"\"Inits the NN architecture with given parameters.\"\"\"\n",
    "        super().__init__()\n",
    "        \n",
    "        # Unpack parameters\n",
    "        self.layers = nn_params['layers']\n",
    "        self.act_name = nn_params['act_name']\n",
    "        self.loss_name = nn_params['loss_name']\n",
    "        \n",
    "        # Define parameters\n",
    "        self.depth = len(layers) - 1\n",
    "        \n",
    "        # Create architecture\n",
    "        self.nn = nn.Sequential()\n",
    "        \n",
    "        # Add layers until output layer\n",
    "        for n in range(self.depth - 1):\n",
    "            self.nn.add_module(f\"layer_{n}\", nn.Linear(layers[n], layers[n + 1]))\n",
    "            self.nn.add_module(f\"act_{n}\", nn.Tanh())\n",
    "        \n",
    "        # Output layer (excluding activation)\n",
    "        self.nn.add_module(f\"layer_{n + 1}\", nn.Linear(layers[n + 1], layers[n + 2]))\n",
    "        \n",
    "        self.loss_fun = nn.MSELoss()\n",
    "        \n",
    "        # Weight initialization (already Kaiming uniform)\n",
    "#         for m in self.modules():\n",
    "#             if isinstance(m, nn.Linear):\n",
    "#                 nn.init.xavier_normal_(m.weight)\n",
    "#                 nn.init.constant_(m.bias, 0)\n",
    "\n",
    "    def forward_nn(self, x):\n",
    "        \"\"\"Feed-forward the inputs through the network.\"\"\"\n",
    "        return self.nn(x)\n",
    "    \n",
    "    def loss_nn(self, y_hat, y):\n",
    "        return self.loss_fun(y_hat, y)"
   ]
  },
  {
   "cell_type": "code",
   "execution_count": 296,
   "metadata": {},
   "outputs": [],
   "source": [
    "class PINN(NN):\n",
    "    \"\"\"Physics-Informed Neural Network (NN).\n",
    "\n",
    "    Attributes:\n",
    "        layers(list): Architecture of the NN.\n",
    "        act_name(str): Activation function to use after each layer.\n",
    "        depth(int): Maximum depth of the NN.\n",
    "        nn(nn.Sequential): Sequential container of the NN.\n",
    "    \"\"\"\n",
    "    def __init__(self, nn_params, data_params):\n",
    "        super().__init__(nn_params)\n",
    "        \n",
    "        # Unpack equation parameters\n",
    "        self.m = torch.Tensor([data_params['inertia']])\n",
    "        self.d = torch.Tensor([data_params['damping']])\n",
    "        self.B = torch.Tensor([data_params['susceptance']])\n",
    "\n",
    "    def forward_pinn(self, x):\n",
    "        \n",
    "        x.requires_grad_(True)\n",
    "        \n",
    "        # Forward pass\n",
    "        u = self.forward_nn(x)\n",
    "        \n",
    "        # First derivative\n",
    "        dudx = self.gradients(u, x)[0]\n",
    "        dudt = dudx[:, 1]\n",
    "        \n",
    "        # Second derivative\n",
    "        dudxx = self.gradients(dudx, x)[0]\n",
    "        dudtt = dudxx[:, 1]\n",
    "        \n",
    "        #u.detach_()\n",
    "\n",
    "        # Physics term\n",
    "        f = self.m * dudtt + self.d * dudt + self.B * torch.sin(u) - x[:, 0]\n",
    "        #print(dudx)\n",
    "        #print(dudt)\n",
    "        #print(dudxx)\n",
    "        #print(dudtt)\n",
    "        return u, f\n",
    "    \n",
    "    def loss_pinn(self, u_hat, u, p_type, f, w1=1, w2=1):\n",
    "\n",
    "        # Angle loss\n",
    "        #print(\"u:\", u)\n",
    "        u_filtered = u_hat * p_type\n",
    "        #print(\"u_filtered:\",u_filtered)\n",
    "        MSE_u = self.loss_fun(u_filtered, u)\n",
    "        #print(\"MSE_u:\", MSE_u)\n",
    "\n",
    "        # Physics loss\n",
    "        MSE_f = torch.mean(f**2)\n",
    "        #print(\"MSE_f:\", MSE_f)\n",
    "\n",
    "        # Total loss\n",
    "        MSE = w1*MSE_u + w2*MSE_f\n",
    "        \n",
    "        return MSE_u, MSE_f, MSE\n",
    "\n",
    "    def gradients(self, outputs, inputs):\n",
    "        return torch.autograd.grad(outputs, inputs, grad_outputs=torch.ones_like(outputs), create_graph=True)"
   ]
  },
  {
   "cell_type": "code",
   "execution_count": 297,
   "metadata": {},
   "outputs": [],
   "source": [
    "def train_NN(model, train_loader, test_loader, nn_params, data_params):\n",
    "    \n",
    "    optim = nn_params['optim']\n",
    "    \n",
    "    # Initialize the optimizer\n",
    "    if optim == 'SGD':\n",
    "        optimizer = torch.optim.SGD(model.parameters(), lr=lr)\n",
    "    elif optim == 'Adam':\n",
    "        optimizer = torch.optim.Adam(model.parameters(), lr=lr)\n",
    "    \n",
    "    # Output dictionary\n",
    "    out_dict = {'train_loss': [],\n",
    "                'test_loss': []\n",
    "               }\n",
    "    \n",
    "    train_loss = []\n",
    "    \n",
    "    for epoch in tqdm(range(n_epochs), unit='epoch'):\n",
    "        \n",
    "        # Activate train mode\n",
    "        model.train()\n",
    "        \n",
    "        for (X_train, p_type, Y_train) in train_loader:\n",
    "            \n",
    "            X_train, p_type, Y_train = X_train.to(device), p_type.to(device), Y_train.to(device)\n",
    "            \n",
    "            # Zero the gradients computed for each weight\n",
    "            optimizer.zero_grad()\n",
    "            \n",
    "            # Forward pass\n",
    "            Y_hat = model.forward_nn(X_train)\n",
    "\n",
    "            # Compute the loss\n",
    "            loss = model.loss_nn(Y_hat, Y_train)\n",
    "\n",
    "            # Backward pass through the network\n",
    "            loss.backward()\n",
    "\n",
    "            # Update the weights\n",
    "            optimizer.step()\n",
    "            \n",
    "            # Save train loss\n",
    "            train_loss.append(loss.data.numpy())\n",
    "\n",
    "        if epoch % 500 == 0:\n",
    "\n",
    "            # Activate evaluation mode\n",
    "            model.eval()\n",
    "\n",
    "            test_loss = []\n",
    "\n",
    "            for (X_test, p_type, Y_test) in test_loader:\n",
    "\n",
    "                X_test, p_type, Y_test = X_test.to(device), p_type.to(device), Y_test.to(device)\n",
    "\n",
    "                with torch.no_grad():\n",
    "\n",
    "                    Y_hat = model.forward_nn(X_test)\n",
    "\n",
    "                    test_loss.append(model.loss_nn(Y_hat, Y_test).cpu().item())\n",
    "\n",
    "            out_dict['test_loss'].append(np.mean(test_loss))\n",
    "        \n",
    "        # Pack epoch losses\n",
    "        out_dict['train_loss'].append(np.mean(train_loss))\n",
    "        \n",
    "    return out_dict"
   ]
  },
  {
   "cell_type": "code",
   "execution_count": 355,
   "metadata": {},
   "outputs": [],
   "source": [
    "def train_PINN(model, train_loader, test_loader, nn_params, data_params):\n",
    "    \n",
    "    optim = nn_params['optim']\n",
    "    \n",
    "    # Initialize the optimizer\n",
    "    if optim == 'SGD':\n",
    "        optimizer = torch.optim.SGD(model.parameters(), lr=lr)\n",
    "    elif optim == 'Adam':\n",
    "        optimizer = torch.optim.Adam(model.parameters(), lr=lr)\n",
    "        \n",
    "    n_data = data_params['n_data']\n",
    "    n_collocation = data_params['n_collocation']\n",
    "    w2 = n_data/(n_data+n_collocation)\n",
    "    \n",
    "    # Output dictionary\n",
    "    out_dict = {'train_loss': [],\n",
    "                'test_loss': [],\n",
    "                'MSE_u': [],\n",
    "                'MSE_f': []\n",
    "               }\n",
    "    \n",
    "    train_loss = []\n",
    "    loss_u_e = []\n",
    "    loss_f_e = []\n",
    "    \n",
    "    for epoch in tqdm(range(n_epochs), unit='epoch'):\n",
    "        \n",
    "        # Activate train mode\n",
    "        model.train()\n",
    "        \n",
    "        for (X_train, p_type, Y_train) in train_loader:\n",
    "            \n",
    "            X_train, p_type, Y_train = X_train.to(device), p_type.to(device), Y_train.to(device)\n",
    "            \n",
    "            # Zero the gradients computed for each weight\n",
    "            optimizer.zero_grad()\n",
    "            \n",
    "            # Forward pass\n",
    "            u, f = model.forward_pinn(X_train)\n",
    "\n",
    "            # Compute the loss\n",
    "            loss_u, loss_f, loss = model.loss_pinn(u, Y_train, p_type, f, w2)\n",
    "            \n",
    "            # Backward pass through the network\n",
    "            loss.backward()\n",
    "\n",
    "            # Update the weights\n",
    "            optimizer.step()\n",
    "        \n",
    "            # Save losses\n",
    "            loss_u_e.append(loss_u.data.numpy())\n",
    "            loss_f_e.append(loss_f.data.numpy())\n",
    "            train_loss.append(loss.data.numpy())\n",
    "        \n",
    "        if epoch % 500 == 0:\n",
    "            \n",
    "            # Activate evaluation mode\n",
    "            model.eval()\n",
    "\n",
    "            test_loss = []\n",
    "\n",
    "            for (X_test, p_type, Y_test) in test_loader:\n",
    "\n",
    "                X_test, p_type, Y_test = X_test.to(device), p_type.to(device), Y_test.to(device)\n",
    "                \n",
    "                with torch.no_grad():\n",
    "\n",
    "                    u = model.forward_nn(X_test)\n",
    "                \n",
    "                    test_loss.append(model.loss_nn(u, Y_test).cpu().item())\n",
    "            \n",
    "            out_dict['test_loss'].append(np.mean(test_loss))\n",
    "        \n",
    "        # Pack epoch losses\n",
    "        out_dict['train_loss'].append(np.mean(train_loss))\n",
    "        out_dict['MSE_u'].append(np.mean(loss_u_e))\n",
    "        out_dict['MSE_f'].append(np.mean(loss_f_e))\n",
    "        \n",
    "    return out_dict"
   ]
  },
  {
   "cell_type": "code",
   "execution_count": 356,
   "metadata": {},
   "outputs": [],
   "source": [
    "def plot_loss(results):\n",
    "    plt.plot(results['train_loss'], label='train')\n",
    "    plt.plot(results['test_loss'], label='test')\n",
    "   # plt.yscale('log')\n",
    "    plt.xlabel('Epoch')\n",
    "    plt.ylabel('Loss')\n",
    "    plt.legend()"
   ]
  },
  {
   "cell_type": "markdown",
   "metadata": {},
   "source": [
    "## Parameters"
   ]
  },
  {
   "cell_type": "code",
   "execution_count": 357,
   "metadata": {},
   "outputs": [],
   "source": [
    "# Data parameters\n",
    "n_data = 101 # number of data points\n",
    "n_collocation = 8000 # number of collocation points\n",
    "\n",
    "m = 0.15 # angular inertia\n",
    "d = 0.15 # damping coefficient\n",
    "B = 0.2 # susceptance [pu]\n",
    "delta_0 = 0 # initial angle [rad]\n",
    "omega_0 = 0 # initial angular speed [rad/s]\n",
    "\n",
    "p_min = 0.08 # minimum power [pu]\n",
    "p_max = 0.18 # maximum power [pu]\n",
    "p_span = (p_min, p_max)\n",
    "\n",
    "t_min = 0 # [seconds]\n",
    "t_max = 10 # [seconds]\n",
    "t_span = (t_min, t_max)\n",
    "\n",
    "seed = 123\n",
    "\n",
    "data_params = {'n_data': n_data,\n",
    "               'n_collocation': n_collocation,\n",
    "               'inertia': m,\n",
    "               'damping': d,\n",
    "               'susceptance': B,\n",
    "               'delta_0': delta_0,\n",
    "               'omega_0': omega_0,\n",
    "               'p_span': p_span,\n",
    "               't_span': t_span,\n",
    "               'seed': seed\n",
    "              }"
   ]
  },
  {
   "cell_type": "code",
   "execution_count": 358,
   "metadata": {},
   "outputs": [],
   "source": [
    "# NN parameters\n",
    "lr = 0.001\n",
    "n_epochs = 100\n",
    "batch_size = 500\n",
    "optim = 'Adam' # SGD, LFBGS\n",
    "loss = 'MSE' # MAE\n",
    "activation = 'tanh'\n",
    "layers = [2, 20, 20, 20, 1] # NN architecture\n",
    "\n",
    "nn_params = {'learning_rate': lr,\n",
    "             'n_epochs': n_epochs,\n",
    "             'optim': optim,\n",
    "             'loss_name': loss,\n",
    "             'act_name': activation,\n",
    "             'layers': layers\n",
    "            }"
   ]
  },
  {
   "cell_type": "markdown",
   "metadata": {},
   "source": [
    "## Data"
   ]
  },
  {
   "cell_type": "code",
   "execution_count": 359,
   "metadata": {},
   "outputs": [],
   "source": [
    "with np.load('../data/data.npz') as data_npz:\n",
    "    X_u = data_npz['X_u']\n",
    "    X_f = data_npz['X_f']\n",
    "    y_delta = data_npz['y_delta']\n",
    "    y_omega = data_npz['y_omega']"
   ]
  },
  {
   "cell_type": "code",
   "execution_count": 360,
   "metadata": {},
   "outputs": [
    {
     "name": "stdout",
     "output_type": "stream",
     "text": [
      "Input shape: (10201, 3)\n",
      "Input shape: (8000, 3)\n",
      "Output shape: (10201, 1)\n",
      "Output shape: (10201, 1)\n"
     ]
    }
   ],
   "source": [
    "print(f\"Input shape: {X_u.shape}\\n\"\n",
    "      f\"Input shape: {X_f.shape}\\n\"\n",
    "      f\"Output shape: {y_delta.shape}\\n\"\n",
    "      f\"Output shape: {y_omega.shape}\")"
   ]
  },
  {
   "cell_type": "code",
   "execution_count": 361,
   "metadata": {},
   "outputs": [],
   "source": [
    "# Create datasets\n",
    "train_short = Dataset(X_u, X_f, y_delta, data_params, collocation=False)\n",
    "train_long = Dataset(X_u, X_f, y_delta, data_params)\n",
    "test = Dataset(X_u, X_f, y_delta, data_params, train=False)\n",
    "\n",
    "# Create train and test loaders\n",
    "train_loader_short = data.DataLoader(train_short, batch_size=batch_size, shuffle=True)\n",
    "train_loader_long = data.DataLoader(train_long, batch_size=batch_size, shuffle=True)\n",
    "test_loader = data.DataLoader(test, batch_size=batch_size, shuffle=False) # num_workers=1"
   ]
  },
  {
   "cell_type": "code",
   "execution_count": 362,
   "metadata": {},
   "outputs": [
    {
     "data": {
      "text/plain": [
       "(101, 2)"
      ]
     },
     "execution_count": 362,
     "metadata": {},
     "output_type": "execute_result"
    }
   ],
   "source": [
    "train_short.inputs.shape"
   ]
  },
  {
   "cell_type": "code",
   "execution_count": 363,
   "metadata": {},
   "outputs": [
    {
     "data": {
      "text/plain": [
       "(8101, 2)"
      ]
     },
     "execution_count": 363,
     "metadata": {},
     "output_type": "execute_result"
    }
   ],
   "source": [
    "train_long.inputs.shape"
   ]
  },
  {
   "cell_type": "code",
   "execution_count": 364,
   "metadata": {},
   "outputs": [
    {
     "data": {
      "text/plain": [
       "(511, 2)"
      ]
     },
     "execution_count": 364,
     "metadata": {},
     "output_type": "execute_result"
    }
   ],
   "source": [
    "test.inputs.shape"
   ]
  },
  {
   "cell_type": "code",
   "execution_count": 365,
   "metadata": {},
   "outputs": [
    {
     "data": {
      "text/plain": [
       "<matplotlib.collections.PathCollection at 0x7f17ddbe8dc0>"
      ]
     },
     "execution_count": 365,
     "metadata": {},
     "output_type": "execute_result"
    },
    {
     "data": {
      "image/png": "[encoded data removed]",
      "text/plain": [
       "<Figure size 432x288 with 1 Axes>"
      ]
     },
     "metadata": {
      "needs_background": "light"
     },
     "output_type": "display_data"
    }
   ],
   "source": [
    "plt.scatter(train_short.inputs[:,1], train_short.inputs[:,0])"
   ]
  },
  {
   "cell_type": "code",
   "execution_count": 366,
   "metadata": {},
   "outputs": [
    {
     "data": {
      "text/plain": [
       "<matplotlib.collections.PathCollection at 0x7f17ddd7c2e0>"
      ]
     },
     "execution_count": 366,
     "metadata": {},
     "output_type": "execute_result"
    },
    {
     "data": {
      "image/png": "[encoded data removed]",
      "text/plain": [
       "<Figure size 432x288 with 1 Axes>"
      ]
     },
     "metadata": {
      "needs_background": "light"
     },
     "output_type": "display_data"
    }
   ],
   "source": [
    "plt.scatter(train_long.inputs[:,1], train_long.inputs[:,0])"
   ]
  },
  {
   "cell_type": "markdown",
   "metadata": {},
   "source": [
    "## NN"
   ]
  },
  {
   "cell_type": "code",
   "execution_count": 265,
   "metadata": {},
   "outputs": [
    {
     "data": {
      "text/plain": [
       "NN(\n",
       "  (nn): Sequential(\n",
       "    (layer_0): Linear(in_features=2, out_features=20, bias=True)\n",
       "    (act_0): Tanh()\n",
       "    (layer_1): Linear(in_features=20, out_features=20, bias=True)\n",
       "    (act_1): Tanh()\n",
       "    (layer_2): Linear(in_features=20, out_features=20, bias=True)\n",
       "    (act_2): Tanh()\n",
       "    (layer_3): Linear(in_features=20, out_features=1, bias=True)\n",
       "  )\n",
       "  (loss_fun): MSELoss()\n",
       ")"
      ]
     },
     "execution_count": 265,
     "metadata": {},
     "output_type": "execute_result"
    }
   ],
   "source": [
    "# Initialize model\n",
    "model_NN = NN(nn_params)\n",
    "\n",
    "# To GPU or CPU\n",
    "model_NN.to(device)"
   ]
  },
  {
   "cell_type": "code",
   "execution_count": 266,
   "metadata": {},
   "outputs": [],
   "source": [
    "#%lprun -f train_NN train_NN(model_NN, train_loader_short, test_loader, nn_params, data_params)"
   ]
  },
  {
   "cell_type": "code",
   "execution_count": 267,
   "metadata": {},
   "outputs": [
    {
     "name": "stderr",
     "output_type": "stream",
     "text": [
      "100%|██████████| 10000/10000 [01:35<00:00, 104.17epoch/s]\n"
     ]
    }
   ],
   "source": [
    "# Train\n",
    "results_NNshort = train_NN(model_NN, train_loader_short, test_loader, nn_params, data_params)"
   ]
  },
  {
   "cell_type": "code",
   "execution_count": 268,
   "metadata": {},
   "outputs": [
    {
     "data": {
      "image/png": "[encoded data removed]",
      "text/plain": [
       "<Figure size 432x288 with 1 Axes>"
      ]
     },
     "metadata": {
      "needs_background": "light"
     },
     "output_type": "display_data"
    }
   ],
   "source": [
    "plot_loss(results_NNshort)"
   ]
  },
  {
   "cell_type": "code",
   "execution_count": 269,
   "metadata": {},
   "outputs": [
    {
     "data": {
      "text/plain": [
       "[0.5905410349369049,\n",
       " 0.05497492104768753,\n",
       " 0.03536599618382752,\n",
       " 0.01222960778977722,\n",
       " 0.004605675232596695,\n",
       " 0.003417360596358776,\n",
       " 0.003247890272177756,\n",
       " 0.0031475945143029094,\n",
       " 0.0030642133788205683,\n",
       " 0.0031733840296510607,\n",
       " 0.003676524051115848,\n",
       " 0.004646079236408696,\n",
       " 0.005998198528686771,\n",
       " 0.007524205750087276,\n",
       " 0.009083204770831799,\n",
       " 0.010713218198361574,\n",
       " 0.012371256450933288,\n",
       " 0.014023791070940206,\n",
       " 0.015450760911335237,\n",
       " 0.016748982889112085]"
      ]
     },
     "execution_count": 269,
     "metadata": {},
     "output_type": "execute_result"
    }
   ],
   "source": [
    "results_NNshort['test_loss']"
   ]
  },
  {
   "cell_type": "code",
   "execution_count": 324,
   "metadata": {},
   "outputs": [],
   "source": [
    "def plot_prediction(idx, model):\n",
    "    idx=20\n",
    "    preds = []\n",
    "    for x in X_u[idx*n_data:idx*n_data+n_data, 0:2]:\n",
    "        x = torch.Tensor(x)\n",
    "        preds.append(model.nn.forward(x).item())\n",
    "\n",
    "    plt.plot(X_u[idx*n_data:idx*n_data+n_data, 1], y_delta[idx*n_data:idx*n_data+n_data], label=\"exact\")\n",
    "    plt.plot(X_u[idx*n_data:idx*n_data+n_data, 1], preds, label=\"prediction\")\n",
    "    plt.xlabel(\"Time [s]\")\n",
    "    plt.ylabel(\"δ [rad]\")\n",
    "    plt.legend()"
   ]
  },
  {
   "cell_type": "code",
   "execution_count": 325,
   "metadata": {},
   "outputs": [
    {
     "data": {
      "image/png": "[encoded data removed]",
      "text/plain": [
       "<Figure size 432x288 with 1 Axes>"
      ]
     },
     "metadata": {
      "needs_background": "light"
     },
     "output_type": "display_data"
    }
   ],
   "source": [
    "plot_prediction(10, model_NN)"
   ]
  },
  {
   "cell_type": "markdown",
   "metadata": {},
   "source": [
    "## PINN"
   ]
  },
  {
   "cell_type": "code",
   "execution_count": 367,
   "metadata": {},
   "outputs": [
    {
     "data": {
      "text/plain": [
       "PINN(\n",
       "  (nn): Sequential(\n",
       "    (layer_0): Linear(in_features=2, out_features=20, bias=True)\n",
       "    (act_0): Tanh()\n",
       "    (layer_1): Linear(in_features=20, out_features=20, bias=True)\n",
       "    (act_1): Tanh()\n",
       "    (layer_2): Linear(in_features=20, out_features=20, bias=True)\n",
       "    (act_2): Tanh()\n",
       "    (layer_3): Linear(in_features=20, out_features=1, bias=True)\n",
       "  )\n",
       "  (loss_fun): MSELoss()\n",
       ")"
      ]
     },
     "execution_count": 367,
     "metadata": {},
     "output_type": "execute_result"
    }
   ],
   "source": [
    "# Initialize model\n",
    "model_PINN = PINN(nn_params, data_params)\n",
    "\n",
    "# To GPU or CPU\n",
    "model_PINN.to(device)"
   ]
  },
  {
   "cell_type": "code",
   "execution_count": 368,
   "metadata": {},
   "outputs": [
    {
     "name": "stderr",
     "output_type": "stream",
     "text": [
      "100%|██████████| 100/100 [01:07<00:00,  1.48epoch/s]\n"
     ]
    }
   ],
   "source": [
    "results_PINNlong = train_PINN(model_PINN, train_loader_long, test_loader, nn_params, data_params)"
   ]
  },
  {
   "cell_type": "code",
   "execution_count": 351,
   "metadata": {
    "collapsed": true,
    "jupyter": {
     "outputs_hidden": true
    }
   },
   "outputs": [
    {
     "name": "stderr",
     "output_type": "stream",
     "text": [
      "100%|██████████| 100/100 [01:23<00:00,  1.19epoch/s]\n"
     ]
    },
    {
     "data": {
      "text/plain": [
       "Timer unit: 1e-06 s\n",
       "\n",
       "Total time: 83.7652 s\n",
       "File: <ipython-input-339-480869f14150>\n",
       "Function: train_PINN at line 1\n",
       "\n",
       "Line #      Hits         Time  Per Hit   % Time  Line Contents\n",
       "==============================================================\n",
       "     1                                           def train_PINN(model, train_loader, test_loader, nn_params, data_params):\n",
       "     2                                               \n",
       "     3         1          4.0      4.0      0.0      optim = nn_params['optim']\n",
       "     4                                               \n",
       "     5                                               # Initialize the optimizer\n",
       "     6         1         14.0     14.0      0.0      if optim == 'SGD':\n",
       "     7                                                   optimizer = torch.optim.SGD(model.parameters(), lr=lr)\n",
       "     8         1          3.0      3.0      0.0      elif optim == 'Adam':\n",
       "     9         1        574.0    574.0      0.0          optimizer = torch.optim.Adam(model.parameters(), lr=lr)\n",
       "    10                                                   \n",
       "    11         1          3.0      3.0      0.0      n_data = data_params['n_data']\n",
       "    12         1          2.0      2.0      0.0      n_collocation = data_params['n_collocation']\n",
       "    13         1          3.0      3.0      0.0      w2 = n_data/(n_data+n_collocation)\n",
       "    14                                               \n",
       "    15                                               # Output dictionary\n",
       "    16         2          5.0      2.5      0.0      out_dict = {'train_loss': [],\n",
       "    17         1          2.0      2.0      0.0                  'test_loss': [],\n",
       "    18         1          2.0      2.0      0.0                  'MSE_u': [],\n",
       "    19         1          2.0      2.0      0.0                  'MSE_f': []\n",
       "    20                                                          }\n",
       "    21                                               \n",
       "    22         1          3.0      3.0      0.0      train_loss = []\n",
       "    23         1          2.0      2.0      0.0      loss_u_e = []\n",
       "    24         1          2.0      2.0      0.0      loss_f_e = []\n",
       "    25                                               \n",
       "    26       101     232083.0   2297.9      0.3      for epoch in tqdm(range(n_epochs), unit='epoch'):\n",
       "    27                                                   \n",
       "    28                                                   # Activate train mode\n",
       "    29       100      36223.0    362.2      0.0          model.train()\n",
       "    30                                                   \n",
       "    31      1800   58032733.0  32240.4     69.3          for (X_train, p_type, Y_train) in train_loader:\n",
       "    32                                                       \n",
       "    33      1700      51906.0     30.5      0.1              X_train, p_type, Y_train = X_train.to(device), p_type.to(device), Y_train.to(device)\n",
       "    34                                                       \n",
       "    35                                                       # Zero the gradients computed for each weight\n",
       "    36      1700     320892.0    188.8      0.4              optimizer.zero_grad()\n",
       "    37                                                       \n",
       "    38                                                       # Forward pass\n",
       "    39      1700    9548895.0   5617.0     11.4              u, f = model.forward_pinn(X_train)\n",
       "    40                                           \n",
       "    41                                                       # Compute the loss\n",
       "    42      1700    1963015.0   1154.7      2.3              loss_u, loss_f, loss = model.loss_pinn(u, Y_train, p_type, f, w2)\n",
       "    43                                                       \n",
       "    44                                                       # Backward pass through the network\n",
       "    45      1700   10885915.0   6403.5     13.0              loss.backward(retain_graph=True)\n",
       "    46                                           \n",
       "    47                                                       # Update the weights\n",
       "    48      1700    2471246.0   1453.7      3.0              optimizer.step()\n",
       "    49                                                   \n",
       "    50                                                       # Save losses\n",
       "    51      1700      40824.0     24.0      0.0              loss_u_e.append(loss_u.data.numpy())\n",
       "    52      1700      11513.0      6.8      0.0              loss_f_e.append(loss_f.data.numpy())\n",
       "    53      1700       9198.0      5.4      0.0              train_loss.append(loss.data.numpy())\n",
       "    54                                                   \n",
       "    55       100        336.0      3.4      0.0          if epoch % 500 == 0:\n",
       "    56                                                       \n",
       "    57                                                       # Activate evaluation mode\n",
       "    58         1        181.0    181.0      0.0              model.eval()\n",
       "    59                                           \n",
       "    60         1          2.0      2.0      0.0              test_loss = []\n",
       "    61                                           \n",
       "    62         3      42392.0  14130.7      0.1              for (X_test, p_type, Y_test) in test_loader:\n",
       "    63                                           \n",
       "    64         2         60.0     30.0      0.0                  X_test, p_type, Y_test = X_test.to(device), p_type.to(device), Y_test.to(device)\n",
       "    65                                                           \n",
       "    66         2         49.0     24.5      0.0                  with torch.no_grad():\n",
       "    67                                           \n",
       "    68         2       3098.0   1549.0      0.0                      u = model.forward_nn(X_test)\n",
       "    69                                                           \n",
       "    70         2       1463.0    731.5      0.0                      test_loss.append(model.loss_nn(u, Y_test).cpu().item())\n",
       "    71                                                       \n",
       "    72         1        446.0    446.0      0.0              out_dict['test_loss'].append(np.mean(test_loss))\n",
       "    73                                                   \n",
       "    74                                                   # Pack epoch losses\n",
       "    75       100      46385.0    463.9      0.1          out_dict['train_loss'].append(np.mean(train_loss))\n",
       "    76       100      33433.0    334.3      0.0          out_dict['MSE_u'].append(np.mean(loss_u_e))\n",
       "    77       100      32282.0    322.8      0.0          out_dict['MSE_f'].append(np.mean(loss_f_e))\n",
       "    78                                                   \n",
       "    79         1          4.0      4.0      0.0      return out_dict"
      ]
     },
     "metadata": {},
     "output_type": "display_data"
    }
   ],
   "source": [
    "%lprun -f train_PINN train_PINN(model_PINN, train_loader_long, test_loader, nn_params, data_params)"
   ]
  },
  {
   "cell_type": "code",
   "execution_count": 369,
   "metadata": {},
   "outputs": [
    {
     "data": {
      "image/png": "[encoded data removed]",
      "text/plain": [
       "<Figure size 432x288 with 1 Axes>"
      ]
     },
     "metadata": {
      "needs_background": "light"
     },
     "output_type": "display_data"
    }
   ],
   "source": [
    "plot_loss(results_PINNlong)"
   ]
  },
  {
   "cell_type": "code",
   "execution_count": 370,
   "metadata": {},
   "outputs": [
    {
     "data": {
      "text/plain": [
       "<matplotlib.legend.Legend at 0x7f17dde3abb0>"
      ]
     },
     "execution_count": 370,
     "metadata": {},
     "output_type": "execute_result"
    },
    {
     "data": {
      "image/png": "[encoded data removed]",
      "text/plain": [
       "<Figure size 432x288 with 1 Axes>"
      ]
     },
     "metadata": {
      "needs_background": "light"
     },
     "output_type": "display_data"
    }
   ],
   "source": [
    "plt.plot(results_PINNlong['MSE_u'], label='MSE_u')\n",
    "plt.plot(results_PINNlong['MSE_f'], label='MSE_f')\n",
    "plt.yscale('log')\n",
    "plt.xlabel('Epoch')\n",
    "plt.ylabel('Loss')\n",
    "plt.legend()"
   ]
  },
  {
   "cell_type": "code",
   "execution_count": 373,
   "metadata": {},
   "outputs": [
    {
     "data": {
      "text/plain": [
       "0.04674459621310234"
      ]
     },
     "execution_count": 373,
     "metadata": {},
     "output_type": "execute_result"
    }
   ],
   "source": [
    "results_PINNlong['test_loss'][-1]"
   ]
  },
  {
   "cell_type": "code",
   "execution_count": 374,
   "metadata": {},
   "outputs": [
    {
     "data": {
      "image/png": "[encoded data removed]",
      "text/plain": [
       "<Figure size 432x288 with 1 Axes>"
      ]
     },
     "metadata": {
      "needs_background": "light"
     },
     "output_type": "display_data"
    }
   ],
   "source": [
    "plot_prediction(10, model_PINN)"
   ]
  },
  {
   "cell_type": "markdown",
   "metadata": {},
   "source": [
    "## BPINN"
   ]
  },
  {
   "cell_type": "markdown",
   "metadata": {},
   "source": [
    "### Bayes rule\n",
    "\n",
    "Likelihood: $$p(D|\\theta)$$\n",
    "Prior: $$p(\\theta)$$\n",
    "Posterior: $$p(\\theta|D) = \\frac{p(D|\\theta)p(\\theta)}{p(D)} = \\frac{p(D|\\theta)p(\\theta)}{\\sum p(D|\\theta)p(\\theta)d\\theta}$$\n",
    "MCMC: $$p(y^*|D) = \\mathbb{E}_{p(\\theta|D)}p(y^*|\\theta) \\approx \\frac{1}{K} \\sum_{k=1}^{K} p(y^*|\\theta^k)$$\n",
    "VI: $$q(z)$$\n",
    "$$\\mathbb{KL}(q(z)||p(y|x)) = \\mathbb{E}_q\\left[log\\frac{q(z)}{p(y|x)}\\right]$$\n",
    "Aleatoric (data) and Epistemic (knowledge or model) Uncertainty"
   ]
  },
  {
   "cell_type": "code",
   "execution_count": 20,
   "metadata": {},
   "outputs": [],
   "source": [
    "from torchvision import datasets, transforms"
   ]
  },
  {
   "cell_type": "code",
   "execution_count": 25,
   "metadata": {},
   "outputs": [
    {
     "name": "stdout",
     "output_type": "stream",
     "text": [
      "\n",
      "\n"
     ]
    }
   ],
   "source": [
    "import pyro\n",
    "from pyro.distributions import Normal, Categorical\n",
    "from pyro.infer import SVI, Trace_ELBO\n",
    "from pyro.optim import Adam"
   ]
  },
  {
   "cell_type": "code",
   "execution_count": 43,
   "metadata": {},
   "outputs": [],
   "source": [
    "from matplotlib import colors"
   ]
  },
  {
   "cell_type": "code",
   "execution_count": 21,
   "metadata": {},
   "outputs": [
    {
     "name": "stdout",
     "output_type": "stream",
     "text": [
      "Downloading http://yann.lecun.com/exdb/mnist/train-images-idx3-ubyte.gz to mnist-data/MNIST/raw/train-images-idx3-ubyte.gz\n"
     ]
    },
    {
     "data": {
      "application/vnd.jupyter.widget-view+json": {
       "model_id": "3d900fad381c40b1b5a94443f7eb9d47",
       "version_major": 2,
       "version_minor": 0
      },
      "text/plain": [
       "HBox(children=(FloatProgress(value=1.0, bar_style='info', layout=Layout(width='20px'), max=1.0), HTML(value=''…"
      ]
     },
     "metadata": {},
     "output_type": "display_data"
    },
    {
     "name": "stdout",
     "output_type": "stream",
     "text": [
      "Extracting mnist-data/MNIST/raw/train-images-idx3-ubyte.gz to mnist-data/MNIST/raw\n",
      "Downloading http://yann.lecun.com/exdb/mnist/train-labels-idx1-ubyte.gz to mnist-data/MNIST/raw/train-labels-idx1-ubyte.gz\n"
     ]
    },
    {
     "data": {
      "application/vnd.jupyter.widget-view+json": {
       "model_id": "8df18bbd1446471a8906a69a7c0e1b7d",
       "version_major": 2,
       "version_minor": 0
      },
      "text/plain": [
       "HBox(children=(FloatProgress(value=1.0, bar_style='info', layout=Layout(width='20px'), max=1.0), HTML(value=''…"
      ]
     },
     "metadata": {},
     "output_type": "display_data"
    },
    {
     "name": "stdout",
     "output_type": "stream",
     "text": [
      "Extracting mnist-data/MNIST/raw/train-labels-idx1-ubyte.gz to mnist-data/MNIST/raw\n",
      "Downloading http://yann.lecun.com/exdb/mnist/t10k-images-idx3-ubyte.gz to mnist-data/MNIST/raw/t10k-images-idx3-ubyte.gz\n",
      "\n"
     ]
    },
    {
     "data": {
      "application/vnd.jupyter.widget-view+json": {
       "model_id": "8590a17acab340f1896500fb81eaeada",
       "version_major": 2,
       "version_minor": 0
      },
      "text/plain": [
       "HBox(children=(FloatProgress(value=1.0, bar_style='info', layout=Layout(width='20px'), max=1.0), HTML(value=''…"
      ]
     },
     "metadata": {},
     "output_type": "display_data"
    },
    {
     "name": "stdout",
     "output_type": "stream",
     "text": [
      "Extracting mnist-data/MNIST/raw/t10k-images-idx3-ubyte.gz to mnist-data/MNIST/raw\n",
      "Downloading http://yann.lecun.com/exdb/mnist/t10k-labels-idx1-ubyte.gz to mnist-data/MNIST/raw/t10k-labels-idx1-ubyte.gz\n"
     ]
    },
    {
     "data": {
      "application/vnd.jupyter.widget-view+json": {
       "model_id": "1af0d6999cd3449792057a83c7c92e3c",
       "version_major": 2,
       "version_minor": 0
      },
      "text/plain": [
       "HBox(children=(FloatProgress(value=1.0, bar_style='info', layout=Layout(width='20px'), max=1.0), HTML(value=''…"
      ]
     },
     "metadata": {},
     "output_type": "display_data"
    },
    {
     "name": "stdout",
     "output_type": "stream",
     "text": [
      "Extracting mnist-data/MNIST/raw/t10k-labels-idx1-ubyte.gz to mnist-data/MNIST/raw\n",
      "Processing...\n",
      "Done!\n"
     ]
    },
    {
     "name": "stderr",
     "output_type": "stream",
     "text": [
      "/home/jorge/miniconda3/envs/ml4ps_pyro/lib/python3.8/site-packages/torchvision/datasets/mnist.py:469: UserWarning: The given NumPy array is not writeable, and PyTorch does not support non-writeable tensors. This means you can write to the underlying (supposedly non-writeable) NumPy array using the tensor. You may want to copy the array to protect its data or make it writeable before converting it to a tensor. This type of warning will be suppressed for the rest of this program. (Triggered internally at  /opt/conda/conda-bld/pytorch_1595629434582/work/torch/csrc/utils/tensor_numpy.cpp:141.)\n",
      "  return torch.from_numpy(parsed.astype(m[2], copy=False)).view(*s)\n"
     ]
    }
   ],
   "source": [
    "class NN(nn.Module):\n",
    "\t\n",
    "    def __init__(self, input_size, hidden_size, output_size):\n",
    "        super(NN, self).__init__()\n",
    "        self.fc1 = nn.Linear(input_size, hidden_size)\n",
    "        self.out = nn.Linear(hidden_size, output_size)\n",
    "        \n",
    "    def forward(self, x):\n",
    "        output = self.fc1(x)\n",
    "        output = F.relu(output)\n",
    "        output = self.out(output)\n",
    "        return output\n",
    "\n",
    "train_loader = torch.utils.data.DataLoader(\n",
    "        datasets.MNIST('mnist-data/', train=True, download=True,\n",
    "                       transform=transforms.Compose([transforms.ToTensor(),])),\n",
    "        batch_size=128, shuffle=True)\n",
    "\n",
    "test_loader = torch.utils.data.DataLoader(\n",
    "        datasets.MNIST('mnist-data/', train=False, transform=transforms.Compose([transforms.ToTensor(),])\n",
    "                       ),\n",
    "        batch_size=128, shuffle=True)\n",
    "\n",
    "net = NN(28*28, 1024, 10)"
   ]
  },
  {
   "cell_type": "code",
   "execution_count": 28,
   "metadata": {},
   "outputs": [],
   "source": [
    "log_softmax = nn.LogSoftmax(dim=1)\n",
    "\n",
    "def model(x_data, y_data):\n",
    "    \n",
    "    fc1w_prior = Normal(loc=torch.zeros_like(net.fc1.weight), scale=torch.ones_like(net.fc1.weight))\n",
    "    fc1b_prior = Normal(loc=torch.zeros_like(net.fc1.bias), scale=torch.ones_like(net.fc1.bias))\n",
    "    \n",
    "    outw_prior = Normal(loc=torch.zeros_like(net.out.weight), scale=torch.ones_like(net.out.weight))\n",
    "    outb_prior = Normal(loc=torch.zeros_like(net.out.bias), scale=torch.ones_like(net.out.bias))\n",
    "    \n",
    "    priors = {'fc1.weight': fc1w_prior, 'fc1.bias': fc1b_prior,  'out.weight': outw_prior, 'out.bias': outb_prior}\n",
    "    \n",
    "    # lift module parameters to random variables sampled from the priors\n",
    "    lifted_module = pyro.random_module(\"module\", net, priors)\n",
    "    \n",
    "    # sample a regressor (which also samples w and b)\n",
    "    lifted_reg_model = lifted_module()\n",
    "    \n",
    "    lhat = log_softmax(lifted_reg_model(x_data))\n",
    "    \n",
    "    pyro.sample(\"obs\", Categorical(logits=lhat), obs=y_data)"
   ]
  },
  {
   "cell_type": "code",
   "execution_count": 29,
   "metadata": {},
   "outputs": [],
   "source": [
    "softplus = torch.nn.Softplus()\n",
    "\n",
    "def guide(x_data, y_data):\n",
    "    \n",
    "    # First layer weight distribution priors\n",
    "    fc1w_mu = torch.randn_like(net.fc1.weight)\n",
    "    fc1w_sigma = torch.randn_like(net.fc1.weight)\n",
    "    fc1w_mu_param = pyro.param(\"fc1w_mu\", fc1w_mu)\n",
    "    fc1w_sigma_param = softplus(pyro.param(\"fc1w_sigma\", fc1w_sigma))\n",
    "    fc1w_prior = Normal(loc=fc1w_mu_param, scale=fc1w_sigma_param)\n",
    "    \n",
    "    # First layer bias distribution priors\n",
    "    fc1b_mu = torch.randn_like(net.fc1.bias)\n",
    "    fc1b_sigma = torch.randn_like(net.fc1.bias)\n",
    "    fc1b_mu_param = pyro.param(\"fc1b_mu\", fc1b_mu)\n",
    "    fc1b_sigma_param = softplus(pyro.param(\"fc1b_sigma\", fc1b_sigma))\n",
    "    fc1b_prior = Normal(loc=fc1b_mu_param, scale=fc1b_sigma_param)\n",
    "    \n",
    "    # Output layer weight distribution priors\n",
    "    outw_mu = torch.randn_like(net.out.weight)\n",
    "    outw_sigma = torch.randn_like(net.out.weight)\n",
    "    outw_mu_param = pyro.param(\"outw_mu\", outw_mu)\n",
    "    outw_sigma_param = softplus(pyro.param(\"outw_sigma\", outw_sigma))\n",
    "    outw_prior = Normal(loc=outw_mu_param, scale=outw_sigma_param).independent(1)\n",
    "    \n",
    "    # Output layer bias distribution priors\n",
    "    outb_mu = torch.randn_like(net.out.bias)\n",
    "    outb_sigma = torch.randn_like(net.out.bias)\n",
    "    outb_mu_param = pyro.param(\"outb_mu\", outb_mu)\n",
    "    outb_sigma_param = softplus(pyro.param(\"outb_sigma\", outb_sigma))\n",
    "    outb_prior = Normal(loc=outb_mu_param, scale=outb_sigma_param)\n",
    "    priors = {'fc1.weight': fc1w_prior, 'fc1.bias': fc1b_prior, 'out.weight': outw_prior, 'out.bias': outb_prior}\n",
    "    \n",
    "    lifted_module = pyro.random_module(\"module\", net, priors)\n",
    "    \n",
    "    return lifted_module()"
   ]
  },
  {
   "cell_type": "code",
   "execution_count": 30,
   "metadata": {},
   "outputs": [],
   "source": [
    "optim = Adam({\"lr\": 0.01})\n",
    "svi = SVI(model, guide, optim, loss=Trace_ELBO())"
   ]
  },
  {
   "cell_type": "code",
   "execution_count": 31,
   "metadata": {},
   "outputs": [
    {
     "name": "stderr",
     "output_type": "stream",
     "text": [
      "/home/jorge/miniconda3/envs/ml4ps_pyro/lib/python3.8/site-packages/pyro/primitives.py:404: FutureWarning: The `random_module` primitive is deprecated, and will be removed in a future release. Use `pyro.nn.Module` to create Bayesian modules from `torch.nn.Module` instances.\n",
      "  warnings.warn(\"The `random_module` primitive is deprecated, and will be removed \"\n"
     ]
    },
    {
     "name": "stdout",
     "output_type": "stream",
     "text": [
      "Epoch  0  Loss  2091.2233217416047\n",
      "Epoch  1  Loss  372.31008965975445\n",
      "Epoch  2  Loss  159.50644796849886\n",
      "Epoch  3  Loss  111.19572409764926\n",
      "Epoch  4  Loss  96.2107744321982\n"
     ]
    }
   ],
   "source": [
    "num_iterations = 5\n",
    "loss = 0\n",
    "\n",
    "for j in range(num_iterations):\n",
    "    loss = 0\n",
    "    for batch_id, data in enumerate(train_loader):\n",
    "        # calculate the loss and take a gradient step\n",
    "        loss += svi.step(data[0].view(-1,28*28), data[1])\n",
    "    normalizer_train = len(train_loader.dataset)\n",
    "    total_epoch_loss_train = loss / normalizer_train\n",
    "    \n",
    "    print(\"Epoch \", j, \" Loss \", total_epoch_loss_train)"
   ]
  },
  {
   "cell_type": "code",
   "execution_count": 39,
   "metadata": {},
   "outputs": [
    {
     "name": "stdout",
     "output_type": "stream",
     "text": [
      "Prediction when network is forced to predict\n",
      "accuracy: 88 %\n"
     ]
    }
   ],
   "source": [
    "num_samples = 10\n",
    "def predict(x):\n",
    "    sampled_models = [guide(None, None) for _ in range(num_samples)]\n",
    "    yhats = [model(x).data for model in sampled_models]\n",
    "    mean = torch.mean(torch.stack(yhats), 0)\n",
    "    return np.argmax(mean.numpy(), axis=1)\n",
    "\n",
    "print('Prediction when network is forced to predict')\n",
    "correct = 0\n",
    "total = 0\n",
    "for j, data in enumerate(test_loader):\n",
    "    images, labels = data\n",
    "    predicted = predict(images.view(-1,28*28))\n",
    "    total += labels.size(0)\n",
    "    correct += (predicted == np.array(labels)).sum().item()\n",
    "print(\"accuracy: %d %%\" % (100 * correct / total))"
   ]
  },
  {
   "cell_type": "code",
   "execution_count": 34,
   "metadata": {},
   "outputs": [
    {
     "data": {
      "text/plain": [
       "tensor([8, 4, 0, 2, 7, 8, 0, 6, 9, 6, 1, 4, 4, 2, 5, 4, 9, 3, 8, 0, 6, 2, 8, 9,\n",
       "        1, 7, 5, 7, 3, 8, 3, 0, 0, 4, 7, 5, 1, 4, 6, 9, 9, 6, 7, 1, 1, 4, 1, 1,\n",
       "        8, 3, 9, 2, 7, 3, 8, 6, 6, 9, 0, 0, 8, 1, 7, 8, 1, 0, 1, 2, 1, 2, 2, 4,\n",
       "        8, 5, 7, 9, 0, 8, 7, 2, 0, 3, 0, 5, 6, 8, 0, 0, 9, 1, 8, 8, 0, 0, 6, 1,\n",
       "        7, 3, 1, 8, 5, 0, 6, 1, 3, 6, 0, 2, 2, 7, 5, 1, 0, 1, 8, 4, 1, 7, 7, 2,\n",
       "        3, 7, 9, 9, 6, 9, 9, 1])"
      ]
     },
     "execution_count": 34,
     "metadata": {},
     "output_type": "execute_result"
    }
   ],
   "source": [
    "labels"
   ]
  },
  {
   "cell_type": "code",
   "execution_count": 38,
   "metadata": {},
   "outputs": [
    {
     "data": {
      "text/plain": [
       "122"
      ]
     },
     "execution_count": 38,
     "metadata": {},
     "output_type": "execute_result"
    }
   ],
   "source": [
    "(predicted == np.array(labels)).sum()"
   ]
  },
  {
   "cell_type": "code",
   "execution_count": 44,
   "metadata": {},
   "outputs": [],
   "source": [
    "classes = ('0', '1', '2', '3',\n",
    "           '4', '5', '6', '7', '8', '9')\n",
    "\n",
    "def imshow(img):\n",
    "    img = img / 2 + 0.5     # unnormalize\n",
    "    npimg = img.numpy()\n",
    "    #plt.imshow(npimg,  cmap='gray')\n",
    "    #fig.show(figsize=(1,1))\n",
    "    \n",
    "    fig, ax = plt.subplots(figsize=(1, 1))\n",
    "    ax.imshow(npimg,  cmap='gray', interpolation='nearest')\n",
    "    plt.show()\n",
    "\n",
    "num_samples = 100\n",
    "def give_uncertainities(x):\n",
    "    sampled_models = [guide(None, None) for _ in range(num_samples)]\n",
    "    yhats = [F.log_softmax(model(x.view(-1,28*28)).data, 1).detach().numpy() for model in sampled_models]\n",
    "    return np.asarray(yhats)\n",
    "    #mean = torch.mean(torch.stack(yhats), 0)\n",
    "    #return np.argmax(mean, axis=1)\n",
    "\n",
    "def test_batch(images, labels, plot=True):\n",
    "    y = give_uncertainities(images)\n",
    "    predicted_for_images = 0\n",
    "    correct_predictions=0\n",
    "\n",
    "    for i in range(len(labels)):\n",
    "    \n",
    "        if(plot):\n",
    "            print(\"Real: \",labels[i].item())\n",
    "            fig, axs = plt.subplots(1, 10, sharey=True,figsize=(20,2))\n",
    "    \n",
    "        all_digits_prob = []\n",
    "    \n",
    "        highted_something = False\n",
    "    \n",
    "        for j in range(len(classes)):\n",
    "        \n",
    "            highlight=False\n",
    "        \n",
    "            histo = []\n",
    "            histo_exp = []\n",
    "        \n",
    "            for z in range(y.shape[0]):\n",
    "                histo.append(y[z][i][j])\n",
    "                histo_exp.append(np.exp(y[z][i][j]))\n",
    "            \n",
    "            prob = np.percentile(histo_exp, 50) #sampling median probability\n",
    "        \n",
    "            if(prob>0.2): #select if network thinks this sample is 20% chance of this being a label\n",
    "                highlight = True #possibly an answer\n",
    "        \n",
    "            all_digits_prob.append(prob)\n",
    "            \n",
    "            if(plot):\n",
    "            \n",
    "                N, bins, patches = axs[j].hist(histo, bins=8, color = \"lightgray\", lw=0,  weights=np.ones(len(histo)) / len(histo), density=False)\n",
    "                axs[j].set_title(str(j)+\" (\"+str(round(prob,2))+\")\") \n",
    "        \n",
    "            if(highlight):\n",
    "            \n",
    "                highted_something = True\n",
    "                \n",
    "                if(plot):\n",
    "\n",
    "                    # We'll color code by height, but you could use any scalar\n",
    "                    fracs = N / N.max()\n",
    "\n",
    "                    # we need to normalize the data to 0..1 for the full range of the colormap\n",
    "                    norm = colors.Normalize(fracs.min(), fracs.max())\n",
    "\n",
    "                    # Now, we'll loop through our objects and set the color of each accordingly\n",
    "                    for thisfrac, thispatch in zip(fracs, patches):\n",
    "                        color = plt.cm.viridis(norm(thisfrac))\n",
    "                        thispatch.set_facecolor(color)\n",
    "\n",
    "    \n",
    "        if(plot):\n",
    "            plt.show()\n",
    "    \n",
    "        predicted = np.argmax(all_digits_prob)\n",
    "    \n",
    "        if(highted_something):\n",
    "            predicted_for_images+=1\n",
    "            if(labels[i].item()==predicted):\n",
    "                if(plot):\n",
    "                    print(\"Correct\")\n",
    "                correct_predictions +=1.0\n",
    "            else:\n",
    "                if(plot):\n",
    "                    print(\"Incorrect :()\")\n",
    "        else:\n",
    "            if(plot):\n",
    "                print(\"Undecided.\")\n",
    "        \n",
    "        if(plot):\n",
    "            imshow(images[i].squeeze())\n",
    "        \n",
    "    \n",
    "    if(plot):\n",
    "        print(\"Summary\")\n",
    "        print(\"Total images: \",len(labels))\n",
    "        print(\"Predicted for: \",predicted_for_images)\n",
    "        print(\"Accuracy when predicted: \",correct_predictions/predicted_for_images)\n",
    "        \n",
    "    return len(labels), correct_predictions, predicted_for_images"
   ]
  },
  {
   "cell_type": "code",
   "execution_count": 41,
   "metadata": {},
   "outputs": [
    {
     "name": "stdout",
     "output_type": "stream",
     "text": [
      "Prediction when network can refuse\n",
      "Total images:  10000\n",
      "Skipped:  1269\n",
      "Accuracy when made predictions: 95 %\n"
     ]
    }
   ],
   "source": [
    "# Prediction when network can decide not to predict\n",
    "\n",
    "print('Prediction when network can refuse')\n",
    "correct = 0\n",
    "total = 0\n",
    "total_predicted_for = 0\n",
    "for j, data in enumerate(test_loader):\n",
    "    images, labels = data\n",
    "    \n",
    "    total_minibatch, correct_minibatch, predictions_minibatch = test_batch(images, labels, plot=False)\n",
    "    total += total_minibatch\n",
    "    correct += correct_minibatch\n",
    "    total_predicted_for += predictions_minibatch\n",
    "\n",
    "print(\"Total images: \", total)\n",
    "print(\"Skipped: \", total-total_predicted_for)\n",
    "print(\"Accuracy when made predictions: %d %%\" % (100 * correct / total_predicted_for))"
   ]
  },
  {
   "cell_type": "code",
   "execution_count": 46,
   "metadata": {},
   "outputs": [
    {
     "name": "stdout",
     "output_type": "stream",
     "text": [
      "Real:  4\n"
     ]
    },
    {
     "data": {
      "image/png": "[encoded data removed]",
      "text/plain": [
       "<Figure size 1440x144 with 10 Axes>"
      ]
     },
     "metadata": {
      "needs_background": "light"
     },
     "output_type": "display_data"
    },
    {
     "name": "stdout",
     "output_type": "stream",
     "text": [
      "Correct\n"
     ]
    },
    {
     "data": {
      "image/png": "[encoded data removed]",
      "text/plain": [
       "<Figure size 72x72 with 1 Axes>"
      ]
     },
     "metadata": {
      "needs_background": "light"
     },
     "output_type": "display_data"
    },
    {
     "name": "stdout",
     "output_type": "stream",
     "text": [
      "Real:  5\n"
     ]
    },
    {
     "data": {
      "image/png": "[encoded data removed]",
      "text/plain": [
       "<Figure size 1440x144 with 10 Axes>"
      ]
     },
     "metadata": {
      "needs_background": "light"
     },
     "output_type": "display_data"
    },
    {
     "name": "stdout",
     "output_type": "stream",
     "text": [
      "Correct\n"
     ]
    },
    {
     "data": {
      "image/png": "[encoded data removed]",
      "text/plain": [
       "<Figure size 72x72 with 1 Axes>"
      ]
     },
     "metadata": {
      "needs_background": "light"
     },
     "output_type": "display_data"
    },
    {
     "name": "stdout",
     "output_type": "stream",
     "text": [
      "Real:  2\n"
     ]
    },
    {
     "data": {
      "image/png": "[encoded data removed]",
      "text/plain": [
       "<Figure size 1440x144 with 10 Axes>"
      ]
     },
     "metadata": {
      "needs_background": "light"
     },
     "output_type": "display_data"
    },
    {
     "name": "stdout",
     "output_type": "stream",
     "text": [
      "Correct\n"
     ]
    },
    {
     "data": {
      "image/png": "[encoded data removed]",
      "text/plain": [
       "<Figure size 72x72 with 1 Axes>"
      ]
     },
     "metadata": {
      "needs_background": "light"
     },
     "output_type": "display_data"
    },
    {
     "name": "stdout",
     "output_type": "stream",
     "text": [
      "Real:  9\n"
     ]
    },
    {
     "data": {
      "image/png": "[encoded data removed]",
      "text/plain": [
       "<Figure size 1440x144 with 10 Axes>"
      ]
     },
     "metadata": {
      "needs_background": "light"
     },
     "output_type": "display_data"
    },
    {
     "name": "stdout",
     "output_type": "stream",
     "text": [
      "Correct\n"
     ]
    },
    {
     "data": {
      "image/png": "[encoded data removed]",
      "text/plain": [
       "<Figure size 72x72 with 1 Axes>"
      ]
     },
     "metadata": {
      "needs_background": "light"
     },
     "output_type": "display_data"
    },
    {
     "name": "stdout",
     "output_type": "stream",
     "text": [
      "Real:  6\n"
     ]
    },
    {
     "data": {
      "image/png": "[encoded data removed]",
      "text/plain": [
       "<Figure size 1440x144 with 10 Axes>"
      ]
     },
     "metadata": {
      "needs_background": "light"
     },
     "output_type": "display_data"
    },
    {
     "name": "stdout",
     "output_type": "stream",
     "text": [
      "Correct\n"
     ]
    },
    {
     "data": {
      "image/png": "[encoded data removed]",
      "text/plain": [
       "<Figure size 72x72 with 1 Axes>"
      ]
     },
     "metadata": {
      "needs_background": "light"
     },
     "output_type": "display_data"
    },
    {
     "name": "stdout",
     "output_type": "stream",
     "text": [
      "Summary\n",
      "Total images:  5\n",
      "Predicted for:  5\n",
      "Accuracy when predicted:  1.0\n"
     ]
    },
    {
     "data": {
      "text/plain": [
       "(5, 5.0, 5)"
      ]
     },
     "execution_count": 46,
     "metadata": {},
     "output_type": "execute_result"
    }
   ],
   "source": [
    "# Testing numbers\n",
    "dataiter = iter(test_loader)\n",
    "images, labels = dataiter.next()\n",
    "\n",
    "test_batch(images[:5], labels[:5])"
   ]
  },
  {
   "cell_type": "code",
   "execution_count": 47,
   "metadata": {},
   "outputs": [
    {
     "name": "stdout",
     "output_type": "stream",
     "text": [
      "Real:  5\n"
     ]
    },
    {
     "data": {
      "image/png": "[encoded data removed]",
      "text/plain": [
       "<Figure size 1440x144 with 10 Axes>"
      ]
     },
     "metadata": {
      "needs_background": "light"
     },
     "output_type": "display_data"
    },
    {
     "name": "stdout",
     "output_type": "stream",
     "text": [
      "Undecided.\n"
     ]
    },
    {
     "data": {
      "image/png": "[encoded data removed]",
      "text/plain": [
       "<Figure size 72x72 with 1 Axes>"
      ]
     },
     "metadata": {
      "needs_background": "light"
     },
     "output_type": "display_data"
    },
    {
     "name": "stdout",
     "output_type": "stream",
     "text": [
      "Real:  0\n"
     ]
    },
    {
     "data": {
      "image/png": "[encoded data removed]",
      "text/plain": [
       "<Figure size 1440x144 with 10 Axes>"
      ]
     },
     "metadata": {
      "needs_background": "light"
     },
     "output_type": "display_data"
    },
    {
     "name": "stdout",
     "output_type": "stream",
     "text": [
      "Undecided.\n"
     ]
    },
    {
     "data": {
      "image/png": "[encoded data removed]",
      "text/plain": [
       "<Figure size 72x72 with 1 Axes>"
      ]
     },
     "metadata": {
      "needs_background": "light"
     },
     "output_type": "display_data"
    },
    {
     "name": "stdout",
     "output_type": "stream",
     "text": [
      "Real:  9\n"
     ]
    },
    {
     "data": {
      "image/png": "[encoded data removed]",
      "text/plain": [
       "<Figure size 1440x144 with 10 Axes>"
      ]
     },
     "metadata": {
      "needs_background": "light"
     },
     "output_type": "display_data"
    },
    {
     "name": "stdout",
     "output_type": "stream",
     "text": [
      "Undecided.\n"
     ]
    },
    {
     "data": {
      "image/png": "[encoded data removed]",
      "text/plain": [
       "<Figure size 72x72 with 1 Axes>"
      ]
     },
     "metadata": {
      "needs_background": "light"
     },
     "output_type": "display_data"
    },
    {
     "name": "stdout",
     "output_type": "stream",
     "text": [
      "Real:  1\n"
     ]
    },
    {
     "data": {
      "image/png": "[encoded data removed]",
      "text/plain": [
       "<Figure size 1440x144 with 10 Axes>"
      ]
     },
     "metadata": {
      "needs_background": "light"
     },
     "output_type": "display_data"
    },
    {
     "name": "stdout",
     "output_type": "stream",
     "text": [
      "Undecided.\n"
     ]
    },
    {
     "data": {
      "image/png": "[encoded data removed]",
      "text/plain": [
       "<Figure size 72x72 with 1 Axes>"
      ]
     },
     "metadata": {
      "needs_background": "light"
     },
     "output_type": "display_data"
    },
    {
     "name": "stdout",
     "output_type": "stream",
     "text": [
      "Real:  8\n"
     ]
    },
    {
     "data": {
      "image/png": "[encoded data removed]",
      "text/plain": [
       "<Figure size 1440x144 with 10 Axes>"
      ]
     },
     "metadata": {
      "needs_background": "light"
     },
     "output_type": "display_data"
    },
    {
     "name": "stdout",
     "output_type": "stream",
     "text": [
      "Undecided.\n"
     ]
    },
    {
     "data": {
      "image/png": "[encoded data removed]",
      "text/plain": [
       "<Figure size 72x72 with 1 Axes>"
      ]
     },
     "metadata": {
      "needs_background": "light"
     },
     "output_type": "display_data"
    },
    {
     "name": "stdout",
     "output_type": "stream",
     "text": [
      "Summary\n",
      "Total images:  5\n",
      "Predicted for:  0\n"
     ]
    },
    {
     "ename": "ZeroDivisionError",
     "evalue": "division by zero",
     "output_type": "error",
     "traceback": [
      "\u001b[0;31m---------------------------------------------------------------------------\u001b[0m",
      "\u001b[0;31mZeroDivisionError\u001b[0m                         Traceback (most recent call last)",
      "\u001b[0;32m<ipython-input-47-d7c5f04ec09a>\u001b[0m in \u001b[0;36m<module>\u001b[0;34m\u001b[0m\n\u001b[1;32m      3\u001b[0m \u001b[0mlabels_random\u001b[0m \u001b[0;34m=\u001b[0m \u001b[0mtorch\u001b[0m\u001b[0;34m.\u001b[0m\u001b[0mrandint\u001b[0m\u001b[0;34m(\u001b[0m\u001b[0;36m0\u001b[0m\u001b[0;34m,\u001b[0m\u001b[0;36m10\u001b[0m\u001b[0;34m,\u001b[0m\u001b[0;34m(\u001b[0m\u001b[0;36m5\u001b[0m\u001b[0;34m,\u001b[0m\u001b[0;34m)\u001b[0m\u001b[0;34m)\u001b[0m\u001b[0;34m\u001b[0m\u001b[0;34m\u001b[0m\u001b[0m\n\u001b[1;32m      4\u001b[0m \u001b[0;34m\u001b[0m\u001b[0m\n\u001b[0;32m----> 5\u001b[0;31m \u001b[0mtest_batch\u001b[0m\u001b[0;34m(\u001b[0m\u001b[0mimages_random\u001b[0m\u001b[0;34m,\u001b[0m \u001b[0mlabels_random\u001b[0m\u001b[0;34m)\u001b[0m\u001b[0;34m\u001b[0m\u001b[0;34m\u001b[0m\u001b[0m\n\u001b[0m",
      "\u001b[0;32m<ipython-input-44-f91aaab7f9ca>\u001b[0m in \u001b[0;36mtest_batch\u001b[0;34m(images, labels, plot)\u001b[0m\n\u001b[1;32m    102\u001b[0m         \u001b[0mprint\u001b[0m\u001b[0;34m(\u001b[0m\u001b[0;34m\"Total images: \"\u001b[0m\u001b[0;34m,\u001b[0m\u001b[0mlen\u001b[0m\u001b[0;34m(\u001b[0m\u001b[0mlabels\u001b[0m\u001b[0;34m)\u001b[0m\u001b[0;34m)\u001b[0m\u001b[0;34m\u001b[0m\u001b[0;34m\u001b[0m\u001b[0m\n\u001b[1;32m    103\u001b[0m         \u001b[0mprint\u001b[0m\u001b[0;34m(\u001b[0m\u001b[0;34m\"Predicted for: \"\u001b[0m\u001b[0;34m,\u001b[0m\u001b[0mpredicted_for_images\u001b[0m\u001b[0;34m)\u001b[0m\u001b[0;34m\u001b[0m\u001b[0;34m\u001b[0m\u001b[0m\n\u001b[0;32m--> 104\u001b[0;31m         \u001b[0mprint\u001b[0m\u001b[0;34m(\u001b[0m\u001b[0;34m\"Accuracy when predicted: \"\u001b[0m\u001b[0;34m,\u001b[0m\u001b[0mcorrect_predictions\u001b[0m\u001b[0;34m/\u001b[0m\u001b[0mpredicted_for_images\u001b[0m\u001b[0;34m)\u001b[0m\u001b[0;34m\u001b[0m\u001b[0;34m\u001b[0m\u001b[0m\n\u001b[0m\u001b[1;32m    105\u001b[0m \u001b[0;34m\u001b[0m\u001b[0m\n\u001b[1;32m    106\u001b[0m     \u001b[0;32mreturn\u001b[0m \u001b[0mlen\u001b[0m\u001b[0;34m(\u001b[0m\u001b[0mlabels\u001b[0m\u001b[0;34m)\u001b[0m\u001b[0;34m,\u001b[0m \u001b[0mcorrect_predictions\u001b[0m\u001b[0;34m,\u001b[0m \u001b[0mpredicted_for_images\u001b[0m\u001b[0;34m\u001b[0m\u001b[0;34m\u001b[0m\u001b[0m\n",
      "\u001b[0;31mZeroDivisionError\u001b[0m: division by zero"
     ]
    }
   ],
   "source": [
    "# Testing random noise\n",
    "images_random = torch.rand(5,28,28)\n",
    "labels_random = torch.randint(0,10,(5,))\n",
    "\n",
    "test_batch(images_random, labels_random)"
   ]
  },
  {
   "cell_type": "code",
   "execution_count": null,
   "metadata": {},
   "outputs": [],
   "source": []
  }
 ],
 "metadata": {
  "kernelspec": {
   "display_name": "Python 3",
   "language": "python",
   "name": "python3"
  },
  "language_info": {
   "codemirror_mode": {
    "name": "ipython",
    "version": 3
   },
   "file_extension": ".py",
   "mimetype": "text/x-python",
   "name": "python",
   "nbconvert_exporter": "python",
   "pygments_lexer": "ipython3",
   "version": "3.8.5"
  }
 },
 "nbformat": 4,
 "nbformat_minor": 4
}
