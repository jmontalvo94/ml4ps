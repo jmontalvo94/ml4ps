{
 "cells": [
  {
   "cell_type": "markdown",
   "metadata": {},
   "source": [
    "# Models"
   ]
  },
  {
   "cell_type": "markdown",
   "metadata": {},
   "source": [
    "## Imports"
   ]
  },
  {
   "cell_type": "code",
   "execution_count": 1,
   "metadata": {},
   "outputs": [],
   "source": [
    "import math\n",
    "import matplotlib.pyplot as plt\n",
    "import numpy as np\n",
    "import torch\n",
    "import torch.nn as nn\n",
    "import torch.nn.functional as F\n",
    "import torch.optim as optim\n",
    "from torch.utils import data\n",
    "from sklearn.model_selection import train_test_split\n",
    "from tqdm import tqdm"
   ]
  },
  {
   "cell_type": "code",
   "execution_count": 2,
   "metadata": {},
   "outputs": [
    {
     "name": "stdout",
     "output_type": "stream",
     "text": [
      "The code is running on CPU.\n"
     ]
    }
   ],
   "source": [
    "# Operations on the GPU if available\n",
    "if torch.cuda.is_available():\n",
    "    print(\"The code is running on GPU.\")\n",
    "else:\n",
    "    print(\"The code is running on CPU.\")\n",
    "device = torch.device('cuda' if torch.cuda.is_available() else 'cpu')"
   ]
  },
  {
   "cell_type": "markdown",
   "metadata": {},
   "source": [
    "## Functions"
   ]
  },
  {
   "cell_type": "code",
   "execution_count": 3,
   "metadata": {},
   "outputs": [],
   "source": [
    "class Dataset(data.Dataset):\n",
    "    \"\"\"Creates a Dataset depending on the given matrices.\n",
    "    \n",
    "    Attributes:\n",
    "        inputs(np.ndarray): Sliced matrix of inputs.\n",
    "        p_type(np.ndarray): Sliced matrix of point type (from inputs).\n",
    "        targets(np.ndarray): Sliced matrix of targets.\n",
    "        n_u(int): Number of data points.\n",
    "        n_f(int): Number of collocation points.\n",
    "    \n",
    "    Returns:\n",
    "        X(np.ndarray): Input observation at idx.\n",
    "        y(np.ndarray): Target observation at idx.\n",
    "        p_type(np.ndarray): Point type at idx\n",
    "    \"\"\"\n",
    "    def __init__(self, X_u, X_f, y, data_params, collocation=True, train=True, split=0.8):\n",
    "        \"\"\"Inits the Dataset, depends on collocation flag.\n",
    "        \n",
    "        Args:\n",
    "        inputs(np.ndarray): Matrix of inputs.\n",
    "        targets(np.ndarray): Matrix of targets.\n",
    "        data_params(Dict): Includes the parameters of the dataset.\n",
    "        collocation(bool): Indicates if the matrices should be sliced _\n",
    "            to only include data points or also collocation points.\n",
    "        \"\"\"\n",
    "        \n",
    "        # Unpack parameters\n",
    "        self.n_u = data_params['n_data']\n",
    "        self.n_f = data_params['n_collocation']\n",
    "        self.seed = data_params['seed']\n",
    "        \n",
    "        X_train, X_test, y_train, y_test = train_test_split(X_u, y,\n",
    "                                                            train_size=split,\n",
    "                                                            random_state=self.seed)\n",
    "        \n",
    "        idx = np.random.choice(X_train.shape[0], self.n_u, replace=False)\n",
    "        X_u_train = X_train[idx, 0:2]\n",
    "        p_train = X_train[idx, -1].reshape((-1,1))\n",
    "        y_train = y_train[idx, :]\n",
    "        \n",
    "        if collocation:\n",
    "            X_train = np.vstack((X_u_train, X_f[:, 0:2]))\n",
    "            p_train = np.vstack((p_train, X_f[:, -1].reshape((-1,1))))\n",
    "            y_train = np.vstack((y_train, np.zeros((self.n_f, 1))))\n",
    "        else:\n",
    "            X_train = X_u_train\n",
    "        \n",
    "        if train:\n",
    "            self.inputs = X_train\n",
    "            self.p_type = p_train\n",
    "            self.targets = y_train\n",
    "        else:\n",
    "            self.inputs = X_test[:, 0:2]\n",
    "            self.p_type = X_test[:, -1].reshape((-1,1))\n",
    "            self.targets = y_test\n",
    "\n",
    "    def __len__(self):\n",
    "        \"\"\"Returns the size of the dataset.\"\"\"\n",
    "        return len(self.targets)\n",
    "\n",
    "    def __getitem__(self, idx):\n",
    "        \"\"\"Retrieve inputs and targets at the given index.\"\"\"\n",
    "        X = torch.Tensor(self.inputs[idx])\n",
    "        p_type = torch.Tensor(self.p_type[idx])\n",
    "        y = torch.Tensor(self.targets[idx])\n",
    "\n",
    "        return X, p_type, y"
   ]
  },
  {
   "cell_type": "code",
   "execution_count": 4,
   "metadata": {},
   "outputs": [],
   "source": [
    "class NN(nn.Module):\n",
    "    \"\"\"Feed-Forward Neural Network (NN).\n",
    "\n",
    "    Attributes:\n",
    "        layers(list): Architecture of the NN.\n",
    "        act_name(str): Activation function to use after each layer.\n",
    "        depth(int): Maximum depth of the NN.\n",
    "        nn(nn.Sequential): Sequential container of the NN.\n",
    "    \"\"\"\n",
    "    \n",
    "    def __init__(self, nn_params):\n",
    "        \"\"\"Inits the NN architecture with given parameters.\"\"\"\n",
    "        super().__init__()\n",
    "        \n",
    "        # Unpack parameters\n",
    "        self.layers = nn_params['layers']\n",
    "        self.act_name = nn_params['act_name']\n",
    "        self.loss_name = nn_params['loss_name']\n",
    "        \n",
    "        # Define parameters\n",
    "        self.depth = len(layers) - 1\n",
    "        \n",
    "        # Create architecture\n",
    "        self.nn = nn.Sequential()\n",
    "        \n",
    "        # Add layers until output layer\n",
    "        for n in range(self.depth - 1):\n",
    "            self.nn.add_module(f\"layer_{n}\", nn.Linear(layers[n], layers[n + 1]))\n",
    "            self.nn.add_module(f\"act_{n}\", self.get_activation(self.act_name))\n",
    "        \n",
    "        # Output layer (excluding activation)\n",
    "        self.nn.add_module(f\"layer_{n + 1}\", nn.Linear(layers[n + 1], layers[n + 2]))\n",
    "        \n",
    "        self.loss_fun = self.get_loss(self.loss_name)\n",
    "        \n",
    "        # Weight initialization (already Kaiming uniform)\n",
    "#         for m in self.modules():\n",
    "#             if isinstance(m, nn.Linear):\n",
    "#                 nn.init.xavier_normal_(m.weight)\n",
    "#                 nn.init.constant_(m.bias, 0)\n",
    "\n",
    "    def forward(self, x):\n",
    "        \"\"\"Feed-forward the inputs through the network.\"\"\"\n",
    "        return self.nn(x)\n",
    "    \n",
    "    def get_activation(self, name):\n",
    "        \"\"\"Matches the activation function name with the actual Pytorch function.\n",
    "\n",
    "        Args:\n",
    "            name(str): Name of the activation function.\n",
    "\n",
    "        Returns:\n",
    "            act(fun): Pytorch activation function.\n",
    "        \"\"\"\n",
    "\n",
    "        activations = {'tanh': nn.Tanh(),\n",
    "                       'relu': nn.ReLU(inplace=True),\n",
    "                       'leakyrelu': nn.LeakyReLU(inplace=True),\n",
    "                       'sigmoid': nn.Sigmoid()\n",
    "                      }\n",
    "\n",
    "        if name.lower() in activations:\n",
    "            return activations[name.lower()]\n",
    "        else: \n",
    "            raise ValueError(f'Activation function \"{name}\" not implemented, available activations are {list(activations.keys())}.')\n",
    "        \n",
    "    def get_loss(self, name):\n",
    "        \"\"\"Matches the loss function name with the actual Pytorch function.\n",
    "\n",
    "        Args:\n",
    "            name(str): Name of the loss function.\n",
    "\n",
    "        Returns:\n",
    "            loss(fun): Pytorch losss function.\n",
    "        \"\"\"\n",
    "\n",
    "        loss_funs = {'MSE': nn.MSELoss(),\n",
    "                     'MAE': nn.L1Loss(),\n",
    "                    }\n",
    "\n",
    "        if name in loss_funs:\n",
    "            return loss_funs[name]\n",
    "        else: \n",
    "            raise ValueError(f'Loss function \"{name}\" not implemented, available loss functions are {list(loss_funs.keys())}.')"
   ]
  },
  {
   "cell_type": "code",
   "execution_count": 5,
   "metadata": {},
   "outputs": [],
   "source": [
    "class PINN(NN):\n",
    "    \"\"\"Physics-Informed Neural Network (NN).\n",
    "\n",
    "    Attributes:\n",
    "        layers(list): Architecture of the NN.\n",
    "        act_name(str): Activation function to use after each layer.\n",
    "        depth(int): Maximum depth of the NN.\n",
    "        nn(nn.Sequential): Sequential container of the NN.\n",
    "    \"\"\"\n",
    "    def __init__(self, nn_params, data_params):\n",
    "        super().__init__(nn_params)\n",
    "        \n",
    "        # Unpack equation parameters\n",
    "        self.m = torch.Tensor([data_params['inertia']])\n",
    "        self.d = torch.Tensor([data_params['damping']])\n",
    "        self.B = torch.Tensor([data_params['susceptance']])\n",
    "\n",
    "    def forward(self, x):\n",
    "        \n",
    "        x.requires_grad_(True)\n",
    "        \n",
    "        # Forward pass\n",
    "        u = self.nn(x)\n",
    "        \n",
    "        # First derivative\n",
    "        dudx = self.gradients(u, x)[0]\n",
    "        dudt = dudx[:, 1]\n",
    "        \n",
    "        # Second derivative\n",
    "        dudxx = self.gradients(dudx, x)[0]\n",
    "        dudtt = dudxx[:, 1]\n",
    "        \n",
    "        #u.detach_()\n",
    "\n",
    "        # Physics term\n",
    "        f = self.m * dudtt + self.d * dudt + self.B * torch.sin(u) - x[:, 0]\n",
    "        #print(dudx)\n",
    "        #print(dudt)\n",
    "        #print(dudxx)\n",
    "        #print(dudtt)\n",
    "        return u, f\n",
    "    \n",
    "    def loss(self, u, y, p_type, f, w1=1, w2=1):\n",
    "        \n",
    "        # Angle loss\n",
    "        #print(\"u:\", u)\n",
    "        u_filtered = u * p_type\n",
    "        #print(\"u_filtered:\",u_filtered)\n",
    "        MSE_u = self.loss_fun(u_filtered, y)\n",
    "        #print(\"MSE_u:\", MSE_u)\n",
    "        \n",
    "        # Physics loss\n",
    "        MSE_f = torch.mean(f**2)\n",
    "        #print(\"MSE_f:\", MSE_f)\n",
    "        \n",
    "        # Total loss\n",
    "        MSE = w1*MSE_u + w2*MSE_f\n",
    "        \n",
    "        return MSE_u, MSE_f, MSE\n",
    "\n",
    "    def gradients(self, outputs, inputs):\n",
    "        return torch.autograd.grad(outputs, inputs, grad_outputs=torch.ones_like(outputs), create_graph=True)"
   ]
  },
  {
   "cell_type": "code",
   "execution_count": 6,
   "metadata": {},
   "outputs": [],
   "source": [
    "def train_NN(model, train_loader, test_loader, nn_params, data_params):\n",
    "    \n",
    "    optim = nn_params['optim']\n",
    "    \n",
    "    # Initialize the optimizer\n",
    "    if optim == 'SGD':\n",
    "        optimizer = torch.optim.SGD(model.parameters(), lr=lr)\n",
    "    elif optim == 'Adam':\n",
    "        optimizer = torch.optim.Adam(model.parameters(), lr=lr)\n",
    "    \n",
    "    # Output dictionary\n",
    "    out_dict = {'train_loss': [],\n",
    "                'test_loss': []\n",
    "               }\n",
    "    \n",
    "    train_loss = []\n",
    "    \n",
    "    for epoch in tqdm(range(n_epochs), unit='epoch'):\n",
    "        \n",
    "        # Activate train mode\n",
    "        model.train()\n",
    "        \n",
    "        for (X_train, p_type, Y_train) in train_loader:\n",
    "            \n",
    "            X_train, p_type, Y_train = X_train.to(device), p_type.to(device), Y_train.to(device)\n",
    "            \n",
    "            # Zero the gradients computed for each weight\n",
    "            optimizer.zero_grad()\n",
    "            \n",
    "            # Forward pass\n",
    "            Y_hat = model(X_train)\n",
    "\n",
    "            # Compute the loss\n",
    "            loss = model.loss(Y_hat, Y_train)\n",
    "\n",
    "            # Backward pass through the network\n",
    "            loss.backward()\n",
    "\n",
    "            # Update the weights\n",
    "            optimizer.step()\n",
    "\n",
    "            # Save train loss\n",
    "            train_loss.append(loss.data.numpy())\n",
    "\n",
    "        # Activate evaluation mode\n",
    "        model.eval()\n",
    "        \n",
    "        test_loss = []\n",
    "        \n",
    "        for (X_test, p_type, Y_test) in test_loader:\n",
    "            \n",
    "            X_test, p_type, Y_test = X_test.to(device), p_type.to(device), Y_test.to(device)\n",
    "            \n",
    "            with torch.no_grad():\n",
    "                \n",
    "                Y_hat = model(X_test)\n",
    "                \n",
    "            test_loss.append(model.loss(Y_hat, Y_test).cpu().item())\n",
    "        \n",
    "        # Pack epoch losses\n",
    "        out_dict['train_loss'].append(np.mean(train_loss))\n",
    "        out_dict['test_loss'].append(np.mean(test_loss))\n",
    "        \n",
    "    return out_dict"
   ]
  },
  {
   "cell_type": "code",
   "execution_count": 30,
   "metadata": {},
   "outputs": [],
   "source": [
    "def train_PINN(model, train_loader, test_loader, nn_params, data_params):\n",
    "    \n",
    "    optim = nn_params['optim']\n",
    "    \n",
    "    # Initialize the optimizer\n",
    "    if optim == 'SGD':\n",
    "        optimizer = torch.optim.SGD(model.parameters(), lr=lr)\n",
    "    elif optim == 'Adam':\n",
    "        optimizer = torch.optim.Adam(model.parameters(), lr=lr)\n",
    "        \n",
    "    n_data = data_params['n_data']\n",
    "    n_collocation = data_params['n_collocation']\n",
    "    \n",
    "    # Output dictionary\n",
    "    out_dict = {'train_loss': [],\n",
    "                'test_loss': [],\n",
    "                'MSE_u': [],\n",
    "                'MSE_f': []\n",
    "               }\n",
    "    \n",
    "    train_loss = []\n",
    "    loss_u_e = []\n",
    "    loss_f_e = []\n",
    "    \n",
    "    for epoch in tqdm(range(n_epochs), unit='epoch'):\n",
    "        \n",
    "        # Activate train mode\n",
    "        model.train()\n",
    "        \n",
    "        for (X_train, p_type, Y_train) in train_loader:\n",
    "            \n",
    "            X_train, p_type, Y_train = X_train.to(device), p_type.to(device), Y_train.to(device)\n",
    "            \n",
    "            # Zero the gradients computed for each weight\n",
    "            optimizer.zero_grad()\n",
    "            \n",
    "            # Forward pass\n",
    "            u, f = model(X_train)\n",
    "\n",
    "            # Compute the loss\n",
    "            loss_u, loss_f, loss = model.loss(u, Y_train, p_type, f, w2=n_data/(n_data+n_collocation))\n",
    "            \n",
    "            loss_u_e.append(loss_u.data.numpy())\n",
    "            loss_f_e.append(loss_f.data.numpy())\n",
    "            \n",
    "            # Backward pass through the network\n",
    "            loss.backward()\n",
    "\n",
    "            # Update the weights\n",
    "            optimizer.step()\n",
    "\n",
    "            # Save train loss\n",
    "            train_loss.append(loss.data.numpy())\n",
    "\n",
    "        # Activate evaluation mode\n",
    "        model.eval()\n",
    "        \n",
    "        test_loss_e = []\n",
    "        \n",
    "        for (X_test, p_type, Y_test) in test_loader:\n",
    "            \n",
    "            X_test, p_type, Y_test = X_test.to(device), p_type.to(device), Y_test.to(device)\n",
    "            \n",
    "            u, f = model(X_test)\n",
    "                \n",
    "            test_loss_u, test_loss_f, test_loss = model.loss(u, Y_test, p_type, f)\n",
    "            test_loss_e.append(test_loss.cpu().item())\n",
    "        \n",
    "        # Pack epoch losses\n",
    "        out_dict['train_loss'].append(np.mean(train_loss))\n",
    "        out_dict['MSE_u'].append(np.mean(loss_u_e))\n",
    "        out_dict['MSE_f'].append(np.mean(loss_f_e))\n",
    "        out_dict['test_loss'].append(np.mean(test_loss_e))\n",
    "        \n",
    "    return out_dict"
   ]
  },
  {
   "cell_type": "code",
   "execution_count": 24,
   "metadata": {},
   "outputs": [],
   "source": [
    "def plot_loss(results):\n",
    "    plt.plot(results['train_loss'], label='train')\n",
    "    plt.plot(results['test_loss'], label='test')\n",
    "   # plt.yscale('log')\n",
    "    plt.xlabel('Epoch')\n",
    "    plt.ylabel('Loss')\n",
    "    plt.legend()"
   ]
  },
  {
   "cell_type": "markdown",
   "metadata": {},
   "source": [
    "## Parameters"
   ]
  },
  {
   "cell_type": "code",
   "execution_count": 9,
   "metadata": {},
   "outputs": [],
   "source": [
    "# Data parameters\n",
    "n_data = 101 # number of data points\n",
    "n_collocation = 8000 # number of collocation points\n",
    "\n",
    "m = 0.15 # angular inertia\n",
    "d = 0.15 # damping coefficient\n",
    "B = 0.2 # susceptance [pu]\n",
    "delta_0 = 0 # initial angle [rad]\n",
    "omega_0 = 0 # initial angular speed [rad/s]\n",
    "\n",
    "p_min = 0.08 # minimum power [pu]\n",
    "p_max = 0.18 # maximum power [pu]\n",
    "p_span = (p_min, p_max)\n",
    "\n",
    "t_min = 0 # [seconds]\n",
    "t_max = 10 # [seconds]\n",
    "t_span = (t_min, t_max)\n",
    "\n",
    "seed = 1\n",
    "\n",
    "data_params = {'n_data': n_data,\n",
    "               'n_collocation': n_collocation,\n",
    "               'inertia': m,\n",
    "               'damping': d,\n",
    "               'susceptance': B,\n",
    "               'delta_0': delta_0,\n",
    "               'omega_0': omega_0,\n",
    "               'p_span': p_span,\n",
    "               't_span': t_span,\n",
    "               'seed': seed\n",
    "              }"
   ]
  },
  {
   "cell_type": "code",
   "execution_count": 37,
   "metadata": {},
   "outputs": [],
   "source": [
    "# NN parameters\n",
    "lr = 0.001\n",
    "n_epochs = 10000\n",
    "batch_size = 500\n",
    "optim = 'Adam' # SGD, LFBGS\n",
    "loss = 'MSE' # MAE\n",
    "activation = 'tanh'\n",
    "layers = [2, 20, 20, 20, 1] # NN architecture\n",
    "\n",
    "nn_params = {'learning_rate': lr,\n",
    "             'n_epochs': n_epochs,\n",
    "             'optim': optim,\n",
    "             'loss_name': loss,\n",
    "             'act_name': activation,\n",
    "             'layers': layers\n",
    "            }"
   ]
  },
  {
   "cell_type": "markdown",
   "metadata": {},
   "source": [
    "## Data"
   ]
  },
  {
   "cell_type": "code",
   "execution_count": 11,
   "metadata": {},
   "outputs": [],
   "source": [
    "with np.load('../data/data.npz') as data_npz:\n",
    "    X_u = data_npz['X_u']\n",
    "    X_f = data_npz['X_f']\n",
    "    y_delta = data_npz['y_delta']\n",
    "    y_omega = data_npz['y_omega']"
   ]
  },
  {
   "cell_type": "code",
   "execution_count": 12,
   "metadata": {},
   "outputs": [
    {
     "name": "stdout",
     "output_type": "stream",
     "text": [
      "Input shape: (10201, 3)\n",
      "Input shape: (8000, 3)\n",
      "Output shape: (10201, 1)\n",
      "Output shape: (10201, 1)\n"
     ]
    }
   ],
   "source": [
    "print(f\"Input shape: {X_u.shape}\\n\"\n",
    "      f\"Input shape: {X_f.shape}\\n\"\n",
    "      f\"Output shape: {y_delta.shape}\\n\"\n",
    "      f\"Output shape: {y_omega.shape}\")"
   ]
  },
  {
   "cell_type": "code",
   "execution_count": 13,
   "metadata": {},
   "outputs": [],
   "source": [
    "# Create datasets\n",
    "train_short = Dataset(X_u, X_f, y_delta, data_params, collocation=False)\n",
    "train_long = Dataset(X_u, X_f, y_delta, data_params)\n",
    "test = Dataset(X_u, X_f, y_delta, data_params, train=False)\n",
    "\n",
    "# Create train and test loaders\n",
    "train_loader_short = data.DataLoader(train_short, batch_size=batch_size, shuffle=True)\n",
    "train_loader_long = data.DataLoader(train_long, batch_size=batch_size, shuffle=True)\n",
    "test_loader = data.DataLoader(test, batch_size=batch_size, shuffle=False) # num_workers=1"
   ]
  },
  {
   "cell_type": "code",
   "execution_count": 14,
   "metadata": {},
   "outputs": [
    {
     "data": {
      "text/plain": [
       "(101, 2)"
      ]
     },
     "execution_count": 14,
     "metadata": {},
     "output_type": "execute_result"
    }
   ],
   "source": [
    "train_short.inputs.shape"
   ]
  },
  {
   "cell_type": "code",
   "execution_count": 15,
   "metadata": {},
   "outputs": [
    {
     "data": {
      "text/plain": [
       "(8101, 2)"
      ]
     },
     "execution_count": 15,
     "metadata": {},
     "output_type": "execute_result"
    }
   ],
   "source": [
    "train_long.inputs.shape"
   ]
  },
  {
   "cell_type": "code",
   "execution_count": 16,
   "metadata": {},
   "outputs": [
    {
     "data": {
      "text/plain": [
       "<matplotlib.collections.PathCollection at 0x7faa5766e3a0>"
      ]
     },
     "execution_count": 16,
     "metadata": {},
     "output_type": "execute_result"
    },
    {
     "data": {
      "image/png": "[encoded data removed]",
      "text/plain": [
       "<Figure size 432x288 with 1 Axes>"
      ]
     },
     "metadata": {
      "needs_background": "light"
     },
     "output_type": "display_data"
    }
   ],
   "source": [
    "plt.scatter(train_short.inputs[:,1], train_short.inputs[:,0])"
   ]
  },
  {
   "cell_type": "code",
   "execution_count": 17,
   "metadata": {},
   "outputs": [
    {
     "data": {
      "text/plain": [
       "<matplotlib.collections.PathCollection at 0x7faa575ce250>"
      ]
     },
     "execution_count": 17,
     "metadata": {},
     "output_type": "execute_result"
    },
    {
     "data": {
      "image/png": "[encoded data removed]",
      "text/plain": [
       "<Figure size 432x288 with 1 Axes>"
      ]
     },
     "metadata": {
      "needs_background": "light"
     },
     "output_type": "display_data"
    }
   ],
   "source": [
    "plt.scatter(train_long.inputs[:,1], train_long.inputs[:,0])"
   ]
  },
  {
   "cell_type": "markdown",
   "metadata": {},
   "source": [
    "## NN"
   ]
  },
  {
   "cell_type": "code",
   "execution_count": 18,
   "metadata": {},
   "outputs": [
    {
     "data": {
      "text/plain": [
       "NN(\n",
       "  (nn): Sequential(\n",
       "    (layer_0): Linear(in_features=2, out_features=20, bias=True)\n",
       "    (act_0): Tanh()\n",
       "    (layer_1): Linear(in_features=20, out_features=20, bias=True)\n",
       "    (act_1): Tanh()\n",
       "    (layer_2): Linear(in_features=20, out_features=20, bias=True)\n",
       "    (act_2): Tanh()\n",
       "    (layer_3): Linear(in_features=20, out_features=1, bias=True)\n",
       "  )\n",
       "  (loss_fun): MSELoss()\n",
       ")"
      ]
     },
     "execution_count": 18,
     "metadata": {},
     "output_type": "execute_result"
    }
   ],
   "source": [
    "# Initialize model\n",
    "model_NN = NN(nn_params)\n",
    "\n",
    "# To GPU or CPU\n",
    "model_NN.to(device)"
   ]
  },
  {
   "cell_type": "code",
   "execution_count": 65,
   "metadata": {},
   "outputs": [
    {
     "name": "stderr",
     "output_type": "stream",
     "text": [
      "100%|██████████| 100/100 [00:36<00:00,  2.71epoch/s]\n"
     ]
    }
   ],
   "source": [
    "# Train\n",
    "results_NNshort = train_NN(model_NN, train_loader_short, test_loader, nn_params, data_params)"
   ]
  },
  {
   "cell_type": "code",
   "execution_count": 67,
   "metadata": {},
   "outputs": [
    {
     "data": {
      "image/png": "[encoded data removed]",
      "text/plain": [
       "<Figure size 432x288 with 1 Axes>"
      ]
     },
     "metadata": {
      "needs_background": "light"
     },
     "output_type": "display_data"
    }
   ],
   "source": [
    "plot_loss(results_NNshort)"
   ]
  },
  {
   "cell_type": "code",
   "execution_count": 68,
   "metadata": {},
   "outputs": [
    {
     "data": {
      "text/plain": [
       "0.047085853737025035"
      ]
     },
     "execution_count": 68,
     "metadata": {},
     "output_type": "execute_result"
    }
   ],
   "source": [
    "results_NNshort['test_loss'][-1]"
   ]
  },
  {
   "cell_type": "code",
   "execution_count": 19,
   "metadata": {},
   "outputs": [],
   "source": [
    "def plot_prediction(idx, model):\n",
    "    idx=20\n",
    "    preds = []\n",
    "    for x in X_u[idx*n_data:idx*n_data+n_data, 0:2]:\n",
    "        x = torch.Tensor(x)\n",
    "        preds.append(model.nn.forward(x).item())\n",
    "\n",
    "    plt.plot(X_u[idx*n_data:idx*n_data+n_data, 1], y_delta[idx*n_data:idx*n_data+n_data], label=\"exact\")\n",
    "    plt.plot(X_u[idx*n_data:idx*n_data+n_data, 1], preds, label=\"prediction\")\n",
    "    plt.xlabel(\"Time [s]\")\n",
    "    plt.ylabel(\"δ [rad]\")\n",
    "    plt.legend()"
   ]
  },
  {
   "cell_type": "code",
   "execution_count": 20,
   "metadata": {},
   "outputs": [
    {
     "data": {
      "image/png": "[encoded data removed]",
      "text/plain": [
       "<Figure size 432x288 with 1 Axes>"
      ]
     },
     "metadata": {
      "needs_background": "light"
     },
     "output_type": "display_data"
    }
   ],
   "source": [
    "plot_prediction(10, model_NN)"
   ]
  },
  {
   "cell_type": "markdown",
   "metadata": {},
   "source": [
    "## PINN"
   ]
  },
  {
   "cell_type": "code",
   "execution_count": 38,
   "metadata": {},
   "outputs": [
    {
     "data": {
      "text/plain": [
       "PINN(\n",
       "  (nn): Sequential(\n",
       "    (layer_0): Linear(in_features=2, out_features=20, bias=True)\n",
       "    (act_0): Tanh()\n",
       "    (layer_1): Linear(in_features=20, out_features=20, bias=True)\n",
       "    (act_1): Tanh()\n",
       "    (layer_2): Linear(in_features=20, out_features=20, bias=True)\n",
       "    (act_2): Tanh()\n",
       "    (layer_3): Linear(in_features=20, out_features=1, bias=True)\n",
       "  )\n",
       "  (loss_fun): MSELoss()\n",
       ")"
      ]
     },
     "execution_count": 38,
     "metadata": {},
     "output_type": "execute_result"
    }
   ],
   "source": [
    "# Initialize model\n",
    "model_PINN = PINN(nn_params, data_params)\n",
    "\n",
    "# To GPU or CPU\n",
    "model_PINN.to(device)"
   ]
  },
  {
   "cell_type": "code",
   "execution_count": 39,
   "metadata": {},
   "outputs": [
    {
     "name": "stderr",
     "output_type": "stream",
     "text": [
      "  0%|          | 10/10000 [00:07<1:59:10,  1.40epoch/s]\n"
     ]
    },
    {
     "ename": "KeyboardInterrupt",
     "evalue": "",
     "output_type": "error",
     "traceback": [
      "\u001b[0;31m---------------------------------------------------------------------------\u001b[0m",
      "\u001b[0;31mKeyboardInterrupt\u001b[0m                         Traceback (most recent call last)",
      "\u001b[0;32m<ipython-input-39-614cd08866e3>\u001b[0m in \u001b[0;36m<module>\u001b[0;34m\u001b[0m\n\u001b[0;32m----> 1\u001b[0;31m \u001b[0mresults_PINNlong\u001b[0m \u001b[0;34m=\u001b[0m \u001b[0mtrain_PINN\u001b[0m\u001b[0;34m(\u001b[0m\u001b[0mmodel_PINN\u001b[0m\u001b[0;34m,\u001b[0m \u001b[0mtrain_loader_long\u001b[0m\u001b[0;34m,\u001b[0m \u001b[0mtest_loader\u001b[0m\u001b[0;34m,\u001b[0m \u001b[0mnn_params\u001b[0m\u001b[0;34m,\u001b[0m \u001b[0mdata_params\u001b[0m\u001b[0;34m)\u001b[0m\u001b[0;34m\u001b[0m\u001b[0;34m\u001b[0m\u001b[0m\n\u001b[0m",
      "\u001b[0;32m<ipython-input-30-37639405d8af>\u001b[0m in \u001b[0;36mtrain_PINN\u001b[0;34m(model, train_loader, test_loader, nn_params, data_params)\u001b[0m\n\u001b[1;32m     28\u001b[0m         \u001b[0mmodel\u001b[0m\u001b[0;34m.\u001b[0m\u001b[0mtrain\u001b[0m\u001b[0;34m(\u001b[0m\u001b[0;34m)\u001b[0m\u001b[0;34m\u001b[0m\u001b[0;34m\u001b[0m\u001b[0m\n\u001b[1;32m     29\u001b[0m \u001b[0;34m\u001b[0m\u001b[0m\n\u001b[0;32m---> 30\u001b[0;31m         \u001b[0;32mfor\u001b[0m \u001b[0;34m(\u001b[0m\u001b[0mX_train\u001b[0m\u001b[0;34m,\u001b[0m \u001b[0mp_type\u001b[0m\u001b[0;34m,\u001b[0m \u001b[0mY_train\u001b[0m\u001b[0;34m)\u001b[0m \u001b[0;32min\u001b[0m \u001b[0mtrain_loader\u001b[0m\u001b[0;34m:\u001b[0m\u001b[0;34m\u001b[0m\u001b[0;34m\u001b[0m\u001b[0m\n\u001b[0m\u001b[1;32m     31\u001b[0m \u001b[0;34m\u001b[0m\u001b[0m\n\u001b[1;32m     32\u001b[0m             \u001b[0mX_train\u001b[0m\u001b[0;34m,\u001b[0m \u001b[0mp_type\u001b[0m\u001b[0;34m,\u001b[0m \u001b[0mY_train\u001b[0m \u001b[0;34m=\u001b[0m \u001b[0mX_train\u001b[0m\u001b[0;34m.\u001b[0m\u001b[0mto\u001b[0m\u001b[0;34m(\u001b[0m\u001b[0mdevice\u001b[0m\u001b[0;34m)\u001b[0m\u001b[0;34m,\u001b[0m \u001b[0mp_type\u001b[0m\u001b[0;34m.\u001b[0m\u001b[0mto\u001b[0m\u001b[0;34m(\u001b[0m\u001b[0mdevice\u001b[0m\u001b[0;34m)\u001b[0m\u001b[0;34m,\u001b[0m \u001b[0mY_train\u001b[0m\u001b[0;34m.\u001b[0m\u001b[0mto\u001b[0m\u001b[0;34m(\u001b[0m\u001b[0mdevice\u001b[0m\u001b[0;34m)\u001b[0m\u001b[0;34m\u001b[0m\u001b[0;34m\u001b[0m\u001b[0m\n",
      "\u001b[0;32m~/miniconda3/envs/ml4ps/lib/python3.8/site-packages/torch/utils/data/dataloader.py\u001b[0m in \u001b[0;36m__next__\u001b[0;34m(self)\u001b[0m\n\u001b[1;32m    361\u001b[0m \u001b[0;34m\u001b[0m\u001b[0m\n\u001b[1;32m    362\u001b[0m     \u001b[0;32mdef\u001b[0m \u001b[0m__next__\u001b[0m\u001b[0;34m(\u001b[0m\u001b[0mself\u001b[0m\u001b[0;34m)\u001b[0m\u001b[0;34m:\u001b[0m\u001b[0;34m\u001b[0m\u001b[0;34m\u001b[0m\u001b[0m\n\u001b[0;32m--> 363\u001b[0;31m         \u001b[0mdata\u001b[0m \u001b[0;34m=\u001b[0m \u001b[0mself\u001b[0m\u001b[0;34m.\u001b[0m\u001b[0m_next_data\u001b[0m\u001b[0;34m(\u001b[0m\u001b[0;34m)\u001b[0m\u001b[0;34m\u001b[0m\u001b[0;34m\u001b[0m\u001b[0m\n\u001b[0m\u001b[1;32m    364\u001b[0m         \u001b[0mself\u001b[0m\u001b[0;34m.\u001b[0m\u001b[0m_num_yielded\u001b[0m \u001b[0;34m+=\u001b[0m \u001b[0;36m1\u001b[0m\u001b[0;34m\u001b[0m\u001b[0;34m\u001b[0m\u001b[0m\n\u001b[1;32m    365\u001b[0m         \u001b[0;32mif\u001b[0m \u001b[0mself\u001b[0m\u001b[0;34m.\u001b[0m\u001b[0m_dataset_kind\u001b[0m \u001b[0;34m==\u001b[0m \u001b[0m_DatasetKind\u001b[0m\u001b[0;34m.\u001b[0m\u001b[0mIterable\u001b[0m \u001b[0;32mand\u001b[0m\u001b[0;31m \u001b[0m\u001b[0;31m\\\u001b[0m\u001b[0;34m\u001b[0m\u001b[0;34m\u001b[0m\u001b[0m\n",
      "\u001b[0;32m~/miniconda3/envs/ml4ps/lib/python3.8/site-packages/torch/utils/data/dataloader.py\u001b[0m in \u001b[0;36m_next_data\u001b[0;34m(self)\u001b[0m\n\u001b[1;32m    401\u001b[0m     \u001b[0;32mdef\u001b[0m \u001b[0m_next_data\u001b[0m\u001b[0;34m(\u001b[0m\u001b[0mself\u001b[0m\u001b[0;34m)\u001b[0m\u001b[0;34m:\u001b[0m\u001b[0;34m\u001b[0m\u001b[0;34m\u001b[0m\u001b[0m\n\u001b[1;32m    402\u001b[0m         \u001b[0mindex\u001b[0m \u001b[0;34m=\u001b[0m \u001b[0mself\u001b[0m\u001b[0;34m.\u001b[0m\u001b[0m_next_index\u001b[0m\u001b[0;34m(\u001b[0m\u001b[0;34m)\u001b[0m  \u001b[0;31m# may raise StopIteration\u001b[0m\u001b[0;34m\u001b[0m\u001b[0;34m\u001b[0m\u001b[0m\n\u001b[0;32m--> 403\u001b[0;31m         \u001b[0mdata\u001b[0m \u001b[0;34m=\u001b[0m \u001b[0mself\u001b[0m\u001b[0;34m.\u001b[0m\u001b[0m_dataset_fetcher\u001b[0m\u001b[0;34m.\u001b[0m\u001b[0mfetch\u001b[0m\u001b[0;34m(\u001b[0m\u001b[0mindex\u001b[0m\u001b[0;34m)\u001b[0m  \u001b[0;31m# may raise StopIteration\u001b[0m\u001b[0;34m\u001b[0m\u001b[0;34m\u001b[0m\u001b[0m\n\u001b[0m\u001b[1;32m    404\u001b[0m         \u001b[0;32mif\u001b[0m \u001b[0mself\u001b[0m\u001b[0;34m.\u001b[0m\u001b[0m_pin_memory\u001b[0m\u001b[0;34m:\u001b[0m\u001b[0;34m\u001b[0m\u001b[0;34m\u001b[0m\u001b[0m\n\u001b[1;32m    405\u001b[0m             \u001b[0mdata\u001b[0m \u001b[0;34m=\u001b[0m \u001b[0m_utils\u001b[0m\u001b[0;34m.\u001b[0m\u001b[0mpin_memory\u001b[0m\u001b[0;34m.\u001b[0m\u001b[0mpin_memory\u001b[0m\u001b[0;34m(\u001b[0m\u001b[0mdata\u001b[0m\u001b[0;34m)\u001b[0m\u001b[0;34m\u001b[0m\u001b[0;34m\u001b[0m\u001b[0m\n",
      "\u001b[0;32m~/miniconda3/envs/ml4ps/lib/python3.8/site-packages/torch/utils/data/_utils/fetch.py\u001b[0m in \u001b[0;36mfetch\u001b[0;34m(self, possibly_batched_index)\u001b[0m\n\u001b[1;32m     42\u001b[0m     \u001b[0;32mdef\u001b[0m \u001b[0mfetch\u001b[0m\u001b[0;34m(\u001b[0m\u001b[0mself\u001b[0m\u001b[0;34m,\u001b[0m \u001b[0mpossibly_batched_index\u001b[0m\u001b[0;34m)\u001b[0m\u001b[0;34m:\u001b[0m\u001b[0;34m\u001b[0m\u001b[0;34m\u001b[0m\u001b[0m\n\u001b[1;32m     43\u001b[0m         \u001b[0;32mif\u001b[0m \u001b[0mself\u001b[0m\u001b[0;34m.\u001b[0m\u001b[0mauto_collation\u001b[0m\u001b[0;34m:\u001b[0m\u001b[0;34m\u001b[0m\u001b[0;34m\u001b[0m\u001b[0m\n\u001b[0;32m---> 44\u001b[0;31m             \u001b[0mdata\u001b[0m \u001b[0;34m=\u001b[0m \u001b[0;34m[\u001b[0m\u001b[0mself\u001b[0m\u001b[0;34m.\u001b[0m\u001b[0mdataset\u001b[0m\u001b[0;34m[\u001b[0m\u001b[0midx\u001b[0m\u001b[0;34m]\u001b[0m \u001b[0;32mfor\u001b[0m \u001b[0midx\u001b[0m \u001b[0;32min\u001b[0m \u001b[0mpossibly_batched_index\u001b[0m\u001b[0;34m]\u001b[0m\u001b[0;34m\u001b[0m\u001b[0;34m\u001b[0m\u001b[0m\n\u001b[0m\u001b[1;32m     45\u001b[0m         \u001b[0;32melse\u001b[0m\u001b[0;34m:\u001b[0m\u001b[0;34m\u001b[0m\u001b[0;34m\u001b[0m\u001b[0m\n\u001b[1;32m     46\u001b[0m             \u001b[0mdata\u001b[0m \u001b[0;34m=\u001b[0m \u001b[0mself\u001b[0m\u001b[0;34m.\u001b[0m\u001b[0mdataset\u001b[0m\u001b[0;34m[\u001b[0m\u001b[0mpossibly_batched_index\u001b[0m\u001b[0;34m]\u001b[0m\u001b[0;34m\u001b[0m\u001b[0;34m\u001b[0m\u001b[0m\n",
      "\u001b[0;32m~/miniconda3/envs/ml4ps/lib/python3.8/site-packages/torch/utils/data/_utils/fetch.py\u001b[0m in \u001b[0;36m<listcomp>\u001b[0;34m(.0)\u001b[0m\n\u001b[1;32m     42\u001b[0m     \u001b[0;32mdef\u001b[0m \u001b[0mfetch\u001b[0m\u001b[0;34m(\u001b[0m\u001b[0mself\u001b[0m\u001b[0;34m,\u001b[0m \u001b[0mpossibly_batched_index\u001b[0m\u001b[0;34m)\u001b[0m\u001b[0;34m:\u001b[0m\u001b[0;34m\u001b[0m\u001b[0;34m\u001b[0m\u001b[0m\n\u001b[1;32m     43\u001b[0m         \u001b[0;32mif\u001b[0m \u001b[0mself\u001b[0m\u001b[0;34m.\u001b[0m\u001b[0mauto_collation\u001b[0m\u001b[0;34m:\u001b[0m\u001b[0;34m\u001b[0m\u001b[0;34m\u001b[0m\u001b[0m\n\u001b[0;32m---> 44\u001b[0;31m             \u001b[0mdata\u001b[0m \u001b[0;34m=\u001b[0m \u001b[0;34m[\u001b[0m\u001b[0mself\u001b[0m\u001b[0;34m.\u001b[0m\u001b[0mdataset\u001b[0m\u001b[0;34m[\u001b[0m\u001b[0midx\u001b[0m\u001b[0;34m]\u001b[0m \u001b[0;32mfor\u001b[0m \u001b[0midx\u001b[0m \u001b[0;32min\u001b[0m \u001b[0mpossibly_batched_index\u001b[0m\u001b[0;34m]\u001b[0m\u001b[0;34m\u001b[0m\u001b[0;34m\u001b[0m\u001b[0m\n\u001b[0m\u001b[1;32m     45\u001b[0m         \u001b[0;32melse\u001b[0m\u001b[0;34m:\u001b[0m\u001b[0;34m\u001b[0m\u001b[0;34m\u001b[0m\u001b[0m\n\u001b[1;32m     46\u001b[0m             \u001b[0mdata\u001b[0m \u001b[0;34m=\u001b[0m \u001b[0mself\u001b[0m\u001b[0;34m.\u001b[0m\u001b[0mdataset\u001b[0m\u001b[0;34m[\u001b[0m\u001b[0mpossibly_batched_index\u001b[0m\u001b[0;34m]\u001b[0m\u001b[0;34m\u001b[0m\u001b[0;34m\u001b[0m\u001b[0m\n",
      "\u001b[0;32m<ipython-input-3-b581a71c580c>\u001b[0m in \u001b[0;36m__getitem__\u001b[0;34m(self, idx)\u001b[0m\n\u001b[1;32m     62\u001b[0m         \u001b[0;34m\"\"\"Retrieve inputs and targets at the given index.\"\"\"\u001b[0m\u001b[0;34m\u001b[0m\u001b[0;34m\u001b[0m\u001b[0m\n\u001b[1;32m     63\u001b[0m         \u001b[0mX\u001b[0m \u001b[0;34m=\u001b[0m \u001b[0mtorch\u001b[0m\u001b[0;34m.\u001b[0m\u001b[0mTensor\u001b[0m\u001b[0;34m(\u001b[0m\u001b[0mself\u001b[0m\u001b[0;34m.\u001b[0m\u001b[0minputs\u001b[0m\u001b[0;34m[\u001b[0m\u001b[0midx\u001b[0m\u001b[0;34m]\u001b[0m\u001b[0;34m)\u001b[0m\u001b[0;34m\u001b[0m\u001b[0;34m\u001b[0m\u001b[0m\n\u001b[0;32m---> 64\u001b[0;31m         \u001b[0mp_type\u001b[0m \u001b[0;34m=\u001b[0m \u001b[0mtorch\u001b[0m\u001b[0;34m.\u001b[0m\u001b[0mTensor\u001b[0m\u001b[0;34m(\u001b[0m\u001b[0mself\u001b[0m\u001b[0;34m.\u001b[0m\u001b[0mp_type\u001b[0m\u001b[0;34m[\u001b[0m\u001b[0midx\u001b[0m\u001b[0;34m]\u001b[0m\u001b[0;34m)\u001b[0m\u001b[0;34m\u001b[0m\u001b[0;34m\u001b[0m\u001b[0m\n\u001b[0m\u001b[1;32m     65\u001b[0m         \u001b[0my\u001b[0m \u001b[0;34m=\u001b[0m \u001b[0mtorch\u001b[0m\u001b[0;34m.\u001b[0m\u001b[0mTensor\u001b[0m\u001b[0;34m(\u001b[0m\u001b[0mself\u001b[0m\u001b[0;34m.\u001b[0m\u001b[0mtargets\u001b[0m\u001b[0;34m[\u001b[0m\u001b[0midx\u001b[0m\u001b[0;34m]\u001b[0m\u001b[0;34m)\u001b[0m\u001b[0;34m\u001b[0m\u001b[0;34m\u001b[0m\u001b[0m\n\u001b[1;32m     66\u001b[0m \u001b[0;34m\u001b[0m\u001b[0m\n",
      "\u001b[0;31mKeyboardInterrupt\u001b[0m: "
     ]
    }
   ],
   "source": [
    "results_PINNlong = train_PINN(model_PINN, train_loader_long, test_loader, nn_params, data_params)"
   ]
  },
  {
   "cell_type": "code",
   "execution_count": 33,
   "metadata": {},
   "outputs": [
    {
     "data": {
      "image/png": "[encoded data removed]",
      "text/plain": [
       "<Figure size 432x288 with 1 Axes>"
      ]
     },
     "metadata": {
      "needs_background": "light"
     },
     "output_type": "display_data"
    }
   ],
   "source": [
    "plot_loss(results_PINNlong)"
   ]
  },
  {
   "cell_type": "code",
   "execution_count": 34,
   "metadata": {},
   "outputs": [
    {
     "data": {
      "text/plain": [
       "<matplotlib.legend.Legend at 0x7faa555cd460>"
      ]
     },
     "execution_count": 34,
     "metadata": {},
     "output_type": "execute_result"
    },
    {
     "data": {
      "image/png": "[encoded data removed]",
      "text/plain": [
       "<Figure size 432x288 with 1 Axes>"
      ]
     },
     "metadata": {
      "needs_background": "light"
     },
     "output_type": "display_data"
    }
   ],
   "source": [
    "plt.plot(results_PINNlong['MSE_u'], label='MSE_u')\n",
    "plt.plot(results_PINNlong['MSE_f'], label='MSE_f')\n",
    "plt.yscale('log')\n",
    "plt.xlabel('Epoch')\n",
    "plt.ylabel('Loss')\n",
    "plt.legend()"
   ]
  },
  {
   "cell_type": "code",
   "execution_count": 35,
   "metadata": {},
   "outputs": [
    {
     "data": {
      "text/plain": [
       "0.012618918158113956"
      ]
     },
     "execution_count": 35,
     "metadata": {},
     "output_type": "execute_result"
    }
   ],
   "source": [
    "results_PINNlong['test_loss'][-1]"
   ]
  },
  {
   "cell_type": "code",
   "execution_count": 36,
   "metadata": {},
   "outputs": [
    {
     "data": {
      "image/png": "[encoded data removed]",
      "text/plain": [
       "<Figure size 432x288 with 1 Axes>"
      ]
     },
     "metadata": {
      "needs_background": "light"
     },
     "output_type": "display_data"
    }
   ],
   "source": [
    "plot_prediction(10, model_PINN)"
   ]
  },
  {
   "cell_type": "markdown",
   "metadata": {},
   "source": [
    "## BPINN"
   ]
  }
 ],
 "metadata": {
  "kernelspec": {
   "display_name": "Python 3",
   "language": "python",
   "name": "python3"
  },
  "language_info": {
   "codemirror_mode": {
    "name": "ipython",
    "version": 3
   },
   "file_extension": ".py",
   "mimetype": "text/x-python",
   "name": "python",
   "nbconvert_exporter": "python",
   "pygments_lexer": "ipython3",
   "version": "3.8.5"
  }
 },
 "nbformat": 4,
 "nbformat_minor": 4
}
