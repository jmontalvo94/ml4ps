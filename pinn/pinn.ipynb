{
 "cells": [
  {
   "cell_type": "markdown",
   "metadata": {},
   "source": [
    "# Physics-Informed Neural Network"
   ]
  },
  {
   "cell_type": "markdown",
   "metadata": {},
   "source": [
    "## Imports"
   ]
  },
  {
   "cell_type": "code",
   "execution_count": 8,
   "metadata": {},
   "outputs": [],
   "source": [
    "import torch\n",
    "import torch.nn as nn\n",
    "import torch.nn.functional as F\n",
    "import tqdm"
   ]
  },
  {
   "cell_type": "markdown",
   "metadata": {},
   "source": [
    "## Functions"
   ]
  },
  {
   "cell_type": "code",
   "execution_count": 4,
   "metadata": {},
   "outputs": [],
   "source": [
    "class NN(nn.Module):\n",
    "    def __init__(self, params):\n",
    "        super(Network, self).__init__()\n",
    "        \n",
    "        # Unpack parameters\n",
    "        self.n_in = params['n_in']\n",
    "        self.n_hidden = params['n_hidden']\n",
    "        self.n_out = params['n_out']\n",
    "        \n",
    "        # Define layers\n",
    "        self.fully_connected1 = nn.Sequential(\n",
    "            nn.Linear(self.n_in, self.n_hidden),\n",
    "            nn.ReLU(),\n",
    "            nn.Linear(self.n_hidden, self.n_hidden),\n",
    "            nn.LeakyReLU(),\n",
    "            )\n",
    "        \n",
    "        self.fully_connected2 = nn.Sequential(\n",
    "            nn.Linear(self.n_hidden, self.n_out),\n",
    "            )\n",
    "        \n",
    "    def forward(self, x):\n",
    "        x = x.view(x.size(0), -1)\n",
    "        x = self.fully_connected1(x)\n",
    "        x = self.fully_connected2(x)\n",
    "        \n",
    "        return x"
   ]
  },
  {
   "cell_type": "code",
   "execution_count": null,
   "metadata": {},
   "outputs": [],
   "source": [
    "class PINN(nn.Module):\n",
    "    def __init__(self, params):\n",
    "        super(Network, self).__init__()\n",
    "        \n",
    "        # Unpack parameters\n",
    "        self.n_in = params['n_in']\n",
    "        self.n_hidden = params['n_hidden']\n",
    "        self.n_out = params['n_out']\n",
    "        \n",
    "        # Define layers\n",
    "        self.fully_connected1 = nn.Sequential(\n",
    "            nn.Linear(self.n_in, self.n_hidden),\n",
    "            nn.ReLU(),\n",
    "            nn.Linear(self.n_hidden, self.n_hidden),\n",
    "            nn.LeakyReLU(),\n",
    "            )\n",
    "        \n",
    "        self.fully_connected2 = nn.Sequential(\n",
    "            nn.Linear(self.n_hidden, self.n_out),\n",
    "            )\n",
    "        \n",
    "    def forward(self, x):\n",
    "        x = x.view(x.size(0), -1)\n",
    "        x = self.fully_connected1(x)\n",
    "        x = self.fully_connected2(x)\n",
    "        \n",
    "        return x"
   ]
  },
  {
   "cell_type": "code",
   "execution_count": null,
   "metadata": {},
   "outputs": [],
   "source": [
    "# Loss function\n",
    "def loss_fun(output, target):\n",
    "    return nn.MSELoss(output, target)"
   ]
  },
  {
   "cell_type": "code",
   "execution_count": null,
   "metadata": {},
   "outputs": [],
   "source": [
    "def train(model, optimizer, num_epochs=10):\n",
    "    \n",
    "    out_dict = {'train_acc': [],\n",
    "              'test_acc': [],\n",
    "              'train_loss': [],\n",
    "              'test_loss': []}\n",
    "  \n",
    "    for epoch in tqdm(range(num_epochs), unit='epoch'):\n",
    "        \n",
    "        # Activate train mode (beware with dropout)\n",
    "        model.train()\n",
    "        \n",
    "        train_correct = 0\n",
    "        train_loss = []\n",
    "        \n",
    "        for minibatch_no, (data, target) in tqdm(enumerate(train_loader), total=len(train_loader)):\n",
    "            \n",
    "            data, target = data.to(device), target.to(device)\n",
    "            \n",
    "            #Zero the gradients computed for each weight\n",
    "            optimizer.zero_grad()\n",
    "            \n",
    "            #Forward pass your image through the network\n",
    "            output = model(data)\n",
    "            \n",
    "            #Compute the loss\n",
    "            loss = loss_fn(output, target)\n",
    "            \n",
    "            #Backward pass through the network\n",
    "            loss.backward()\n",
    "            \n",
    "            #Update the weights\n",
    "            optimizer.step()\n",
    "            \n",
    "            # Save train loss\n",
    "            train_loss.append(loss.item())\n",
    "            \n",
    "            #Compute how many were correctly classified\n",
    "            predicted = output.argmax(1)\n",
    "            train_correct += (target==predicted).sum().cpu().item()\n",
    "            \n",
    "        #Compute the test accuracy\n",
    "        test_loss = []\n",
    "        test_correct = 0\n",
    "        \n",
    "        # Activate evaluation mode\n",
    "        model.eval()\n",
    "        \n",
    "        for data, target in test_loader:\n",
    "            data, target = data.to(device), target.to(device)\n",
    "            with torch.no_grad():\n",
    "                output = model(data)\n",
    "            test_loss.append(loss_fun(output, target).cpu().item())\n",
    "            predicted = output.argmax(1)\n",
    "            test_correct += (target==predicted).sum().cpu().item()\n",
    "            \n",
    "        out_dict['train_acc'].append(train_correct/len(trainset))\n",
    "        out_dict['test_acc'].append(test_correct/len(testset))\n",
    "        out_dict['train_loss'].append(np.mean(train_loss))\n",
    "        out_dict['test_loss'].append(np.mean(test_loss))\n",
    "        print(f\"Loss train: {np.mean(train_loss):.3f}\\t test: {np.mean(test_loss):.3f}\\t\",\n",
    "              f\"Accuracy train: {out_dict['train_acc'][-1]*100:.1f}%\\t test: {out_dict['test_acc'][-1]*100:.1f}%\")\n",
    "    return out_dict"
   ]
  },
  {
   "cell_type": "code",
   "execution_count": null,
   "metadata": {},
   "outputs": [],
   "source": [
    "def plot_results(results):\n",
    "    plt.plot(range(10), results['test_loss'])\n",
    "    plt.plot(range(10), results['train_loss'])\n",
    "    plt.legend(('Test error', 'Train error'))\n",
    "    plt.xlabel('Epoch number')\n",
    "    plt.ylabel('Error')\n",
    "    plt.show()"
   ]
  },
  {
   "cell_type": "markdown",
   "metadata": {},
   "source": [
    "## Driver"
   ]
  },
  {
   "cell_type": "code",
   "execution_count": 9,
   "metadata": {},
   "outputs": [],
   "source": [
    "# def main(params):"
   ]
  },
  {
   "cell_type": "code",
   "execution_count": 6,
   "metadata": {},
   "outputs": [
    {
     "name": "stdout",
     "output_type": "stream",
     "text": [
      "The code will run on CPU.\n"
     ]
    }
   ],
   "source": [
    "# Operations on the GPU if available\n",
    "if torch.cuda.is_available():\n",
    "    print(\"The code will run on GPU.\")\n",
    "else:\n",
    "    print(\"The code will run on CPU.\")\n",
    "device = torch.device('cuda' if torch.cuda.is_available() else 'cpu')  "
   ]
  },
  {
   "cell_type": "code",
   "execution_count": null,
   "metadata": {},
   "outputs": [],
   "source": [
    "# Unpack parameters\n",
    "lr = params['learning_rate']\n",
    "n_epochs = params['n_epochs']\n",
    "optim = params['optim']\n",
    "loss_fun = params['loss_fun']"
   ]
  },
  {
   "cell_type": "code",
   "execution_count": 7,
   "metadata": {},
   "outputs": [],
   "source": [
    "# Initialize model\n",
    "model_nn = NN()\n",
    "model_pinn = PINN()\n",
    "\n",
    "# To GPU or CPU\n",
    "model_nn.to(device)\n",
    "model_pinn.to(device)\n",
    "\n",
    "# Initialize the optimizer\n",
    "if optim == 'SGD':\n",
    "    optimizer = torch.optim.SGD(model.parameters(), lr=lr)\n",
    "elif optim == 'Adam':\n",
    "    optimizer = torch.optim.Adam(model.parameters(), lr=lr)\n",
    "\n",
    "# Set loss function\n",
    "loss_fn = nn.MSELoss()"
   ]
  },
  {
   "cell_type": "code",
   "execution_count": null,
   "metadata": {},
   "outputs": [],
   "source": [
    "# Train\n",
    "results = train(model, optimizer, loss_fn, n_epochs)"
   ]
  },
  {
   "cell_type": "markdown",
   "metadata": {},
   "source": [
    "## Data Visualization"
   ]
  },
  {
   "cell_type": "code",
   "execution_count": null,
   "metadata": {},
   "outputs": [],
   "source": [
    "plot_results(results)"
   ]
  },
  {
   "cell_type": "markdown",
   "metadata": {},
   "source": [
    "## .ipynb to .py"
   ]
  },
  {
   "cell_type": "code",
   "execution_count": null,
   "metadata": {},
   "outputs": [],
   "source": [
    "# if __name__ == '__main__':\n",
    "#     main()"
   ]
  }
 ],
 "metadata": {
  "kernelspec": {
   "display_name": "Python 3",
   "language": "python",
   "name": "python3"
  },
  "language_info": {
   "codemirror_mode": {
    "name": "ipython",
    "version": 3
   },
   "file_extension": ".py",
   "mimetype": "text/x-python",
   "name": "python",
   "nbconvert_exporter": "python",
   "pygments_lexer": "ipython3",
   "version": "3.8.5"
  }
 },
 "nbformat": 4,
 "nbformat_minor": 4
}
