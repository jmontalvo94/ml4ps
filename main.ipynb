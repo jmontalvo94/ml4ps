{
 "cells": [
  {
   "cell_type": "markdown",
   "metadata": {},
   "source": [
    "# Bayesian methods on Physics-Informed Neural Networks for Power Systems"
   ]
  },
  {
   "cell_type": "markdown",
   "metadata": {},
   "source": [
    "## Imports"
   ]
  },
  {
   "cell_type": "code",
   "execution_count": 3,
   "metadata": {},
   "outputs": [
    {
     "ename": "ImportError",
     "evalue": "cannot import name 'NN' from 'src.models' (/home/jorge/code/ml4ps/src/models.py)",
     "output_type": "error",
     "traceback": [
      "\u001b[0;31m---------------------------------------------------------------------------\u001b[0m",
      "\u001b[0;31mImportError\u001b[0m                               Traceback (most recent call last)",
      "\u001b[0;32m<ipython-input-3-8ad5d2bab365>\u001b[0m in \u001b[0;36m<module>\u001b[0;34m\u001b[0m\n\u001b[1;32m      1\u001b[0m \u001b[0;32mimport\u001b[0m \u001b[0mnumpy\u001b[0m \u001b[0;32mas\u001b[0m \u001b[0mnp\u001b[0m\u001b[0;34m\u001b[0m\u001b[0;34m\u001b[0m\u001b[0m\n\u001b[1;32m      2\u001b[0m \u001b[0;32mfrom\u001b[0m \u001b[0mdata\u001b[0m\u001b[0;34m.\u001b[0m\u001b[0mdata\u001b[0m \u001b[0;32mimport\u001b[0m \u001b[0mDataset\u001b[0m\u001b[0;34m\u001b[0m\u001b[0;34m\u001b[0m\u001b[0m\n\u001b[0;32m----> 3\u001b[0;31m \u001b[0;32mfrom\u001b[0m \u001b[0msrc\u001b[0m\u001b[0;34m.\u001b[0m\u001b[0mmodels\u001b[0m \u001b[0;32mimport\u001b[0m \u001b[0mNN\u001b[0m\u001b[0;34m,\u001b[0m \u001b[0mPINN\u001b[0m\u001b[0;34m\u001b[0m\u001b[0;34m\u001b[0m\u001b[0m\n\u001b[0m",
      "\u001b[0;31mImportError\u001b[0m: cannot import name 'NN' from 'src.models' (/home/jorge/code/ml4ps/src/models.py)"
     ]
    }
   ],
   "source": [
    "import numpy as np\n",
    "from data.data import Dataset\n",
    "from src.models import NN, PINN"
   ]
  },
  {
   "cell_type": "markdown",
   "metadata": {},
   "source": [
    "## Data"
   ]
  },
  {
   "cell_type": "code",
   "execution_count": 2,
   "metadata": {},
   "outputs": [],
   "source": [
    "# Parameters\n",
    "n_data = 101 # number of data points per trajectory\n",
    "# n_collocation = 80 # number of collocation points\n",
    "\n",
    "m = 0.15 # angular inertia\n",
    "d = 0.15 # damping coefficient\n",
    "B = 0.2 # susceptance [pu]\n",
    "delta_0 = np.array([0]) # initial angle [rad]\n",
    "omega_0 = np.array([0]) # initial angular speed [rad/s]\n",
    "\n",
    "p_min = 0.08 # [pu]\n",
    "p_max = 0.18 # [pu]\n",
    "p_span = (p_min, p_max)\n",
    "\n",
    "t_min = 0 # [s]\n",
    "t_max = 10 # [s]\n",
    "t_span = (t_min, t_max)\n",
    "\n",
    "data_params = {'n_data': n_data,\n",
    "              'inertia': m,\n",
    "              'damping': d,\n",
    "              'susceptance': B,\n",
    "              'delta_0': delta_0,\n",
    "              'omega_0': omega_0,\n",
    "              'p_span': p_span,\n",
    "              't_span': t_span\n",
    "              }"
   ]
  },
  {
   "cell_type": "code",
   "execution_count": 3,
   "metadata": {},
   "outputs": [],
   "source": [
    "X, Y_delta, Y_omega = create_dataset(data_params)"
   ]
  },
  {
   "cell_type": "code",
   "execution_count": 4,
   "metadata": {},
   "outputs": [
    {
     "data": {
      "text/plain": [
       "(101, 101, 2)"
      ]
     },
     "execution_count": 4,
     "metadata": {},
     "output_type": "execute_result"
    }
   ],
   "source": [
    "X.shape"
   ]
  },
  {
   "cell_type": "code",
   "execution_count": 5,
   "metadata": {},
   "outputs": [
    {
     "data": {
      "text/plain": [
       "(101, 101, 1)"
      ]
     },
     "execution_count": 5,
     "metadata": {},
     "output_type": "execute_result"
    }
   ],
   "source": [
    "Y_delta.shape"
   ]
  },
  {
   "cell_type": "markdown",
   "metadata": {},
   "source": [
    "## Feed-forward Neural Network"
   ]
  },
  {
   "cell_type": "code",
   "execution_count": null,
   "metadata": {},
   "outputs": [],
   "source": [
    "# Parameters\n",
    "lr = 0.001\n",
    "n_epochs = 100\n",
    "optim = 'Adam' # SGD\n",
    "loss_function = nn.MSELoss()\n",
    "\n",
    "# NN architecture\n",
    "n_in = 2\n",
    "n_hidden = 50\n",
    "n_out = 1\n",
    "n_layers = 5 # hidden_layers = n_layers - input_layer - output_layer\n",
    "\n",
    "nn_params = {'learning_rate': lr,\n",
    "            'n_epochs': n_epochs,\n",
    "            'optim': optim,\n",
    "            'loss_fun': loss_fn,\n",
    "            'n_in': n_in,\n",
    "            'n_hidden': n_hidden,\n",
    "            'n_out': n_out,\n",
    "            'n_layers': n_layers\n",
    "            }"
   ]
  },
  {
   "cell_type": "code",
   "execution_count": null,
   "metadata": {},
   "outputs": [],
   "source": [
    "# Initialize model\n",
    "model = NN(n_in, n_hidden, n_out, n_layers)"
   ]
  },
  {
   "cell_type": "code",
   "execution_count": null,
   "metadata": {},
   "outputs": [],
   "source": [
    "# Train\n",
    "results = train(model, X, Y, optimizer, loss_fn, n_epochs)"
   ]
  }
 ],
 "metadata": {
  "kernelspec": {
   "display_name": "Python 3",
   "language": "python",
   "name": "python3"
  },
  "language_info": {
   "codemirror_mode": {
    "name": "ipython",
    "version": 3
   },
   "file_extension": ".py",
   "mimetype": "text/x-python",
   "name": "python",
   "nbconvert_exporter": "python",
   "pygments_lexer": "ipython3",
   "version": "3.8.5"
  }
 },
 "nbformat": 4,
 "nbformat_minor": 4
}
